{
 "cells": [
  {
   "cell_type": "code",
   "execution_count": 2,
   "metadata": {},
   "outputs": [],
   "source": [
    "import numpy as np\n",
    "import pandas as pd\n",
    "import matplotlib.pyplot as plt"
   ]
  },
  {
   "cell_type": "markdown",
   "metadata": {},
   "source": [
    "# Categorical data"
   ]
  },
  {
   "cell_type": "code",
   "execution_count": 3,
   "metadata": {},
   "outputs": [
    {
     "name": "stderr",
     "output_type": "stream",
     "text": [
      "/tmp/ipykernel_13091/1363404034.py:14: SettingWithCopyWarning: \n",
      "A value is trying to be set on a copy of a slice from a DataFrame\n",
      "\n",
      "See the caveats in the documentation: https://pandas.pydata.org/pandas-docs/stable/user_guide/indexing.html#returning-a-view-versus-a-copy\n",
      "  data['education-num'][0]=None\n"
     ]
    },
    {
     "data": {
      "text/plain": "           workclass  age   education  education-num          occupation  \\\n0          State-gov   39   Bachelors            NaN        Adm-clerical   \n1   Self-emp-not-inc   50   Bachelors           13.0     Exec-managerial   \n2            Private   38     HS-grad            9.0   Handlers-cleaners   \n3            Private   53        11th            7.0   Handlers-cleaners   \n4            Private   28   Bachelors           13.0      Prof-specialty   \n\n   capital-gain   gender  hours-per-week  income  \n0          2174     Male              40   <=50K  \n1             0     Male              13   <=50K  \n2             0     Male              40   <=50K  \n3             0     Male              40   <=50K  \n4             0   Female              40   <=50K  ",
      "text/html": "<div>\n<style scoped>\n    .dataframe tbody tr th:only-of-type {\n        vertical-align: middle;\n    }\n\n    .dataframe tbody tr th {\n        vertical-align: top;\n    }\n\n    .dataframe thead th {\n        text-align: right;\n    }\n</style>\n<table border=\"1\" class=\"dataframe\">\n  <thead>\n    <tr style=\"text-align: right;\">\n      <th></th>\n      <th>workclass</th>\n      <th>age</th>\n      <th>education</th>\n      <th>education-num</th>\n      <th>occupation</th>\n      <th>capital-gain</th>\n      <th>gender</th>\n      <th>hours-per-week</th>\n      <th>income</th>\n    </tr>\n  </thead>\n  <tbody>\n    <tr>\n      <th>0</th>\n      <td>State-gov</td>\n      <td>39</td>\n      <td>Bachelors</td>\n      <td>NaN</td>\n      <td>Adm-clerical</td>\n      <td>2174</td>\n      <td>Male</td>\n      <td>40</td>\n      <td>&lt;=50K</td>\n    </tr>\n    <tr>\n      <th>1</th>\n      <td>Self-emp-not-inc</td>\n      <td>50</td>\n      <td>Bachelors</td>\n      <td>13.0</td>\n      <td>Exec-managerial</td>\n      <td>0</td>\n      <td>Male</td>\n      <td>13</td>\n      <td>&lt;=50K</td>\n    </tr>\n    <tr>\n      <th>2</th>\n      <td>Private</td>\n      <td>38</td>\n      <td>HS-grad</td>\n      <td>9.0</td>\n      <td>Handlers-cleaners</td>\n      <td>0</td>\n      <td>Male</td>\n      <td>40</td>\n      <td>&lt;=50K</td>\n    </tr>\n    <tr>\n      <th>3</th>\n      <td>Private</td>\n      <td>53</td>\n      <td>11th</td>\n      <td>7.0</td>\n      <td>Handlers-cleaners</td>\n      <td>0</td>\n      <td>Male</td>\n      <td>40</td>\n      <td>&lt;=50K</td>\n    </tr>\n    <tr>\n      <th>4</th>\n      <td>Private</td>\n      <td>28</td>\n      <td>Bachelors</td>\n      <td>13.0</td>\n      <td>Prof-specialty</td>\n      <td>0</td>\n      <td>Female</td>\n      <td>40</td>\n      <td>&lt;=50K</td>\n    </tr>\n  </tbody>\n</table>\n</div>"
     },
     "metadata": {},
     "output_type": "display_data"
    }
   ],
   "source": [
    "# The file has no headers naming the columns, so we pass header=None\n",
    "# and provide the column names explicitly in \"names\"\n",
    "data = pd.read_csv(\n",
    "    \"https://archive.ics.uci.edu/ml/machine-learning-databases/adult/adult.data\", na_values=[\" ?\"], \n",
    "    header=None, index_col=False,\n",
    "    names=['age', 'workclass', 'fnlwgt', 'education', 'education-num',\n",
    "    'marital-status', 'occupation', 'relationship', 'race', 'gender',\n",
    "    'capital-gain', 'capital-loss', 'hours-per-week', 'native-country',\n",
    "    'income'])\n",
    "# For illustration purposes, we only select some of the columns\n",
    "data = data[['workclass', 'age', 'education', 'education-num', 'occupation', 'capital-gain','gender', 'hours-per-week',  'income']]\n",
    "# IPython.display allows nice output formatting within the Jupyter notebook\n",
    "# add some none\n",
    "data['education-num'][0]=None\n",
    "display(data.head())"
   ]
  },
  {
   "cell_type": "code",
   "execution_count": 4,
   "metadata": {},
   "outputs": [],
   "source": [
    "data = data[1:1000]"
   ]
  },
  {
   "cell_type": "code",
   "execution_count": 5,
   "metadata": {},
   "outputs": [
    {
     "data": {
      "text/plain": "workclass         62\nage                0\neducation          0\neducation-num      0\noccupation        62\ncapital-gain       0\ngender             0\nhours-per-week     0\nincome             0\ndtype: int64"
     },
     "execution_count": 5,
     "metadata": {},
     "output_type": "execute_result"
    }
   ],
   "source": [
    "data.isnull().sum()"
   ]
  },
  {
   "cell_type": "markdown",
   "metadata": {},
   "source": [
    "Teraz rzućmy okiem na wszystkie atrybuty kategoryczne:"
   ]
  },
  {
   "cell_type": "code",
   "execution_count": 6,
   "metadata": {},
   "outputs": [
    {
     "data": {
      "text/plain": " Private             698\n Self-emp-not-inc     81\n Local-gov            68\n State-gov            36\n Self-emp-inc         33\n Federal-gov          21\nName: workclass, dtype: int64"
     },
     "execution_count": 6,
     "metadata": {},
     "output_type": "execute_result"
    }
   ],
   "source": [
    "data[\"workclass\"].value_counts()"
   ]
  },
  {
   "cell_type": "code",
   "execution_count": 7,
   "metadata": {},
   "outputs": [
    {
     "data": {
      "text/plain": " HS-grad         321\n Some-college    225\n Bachelors       165\n Masters          54\n Assoc-voc        48\n 11th             46\n Assoc-acdm       35\n 10th             21\n 9th              16\n 7th-8th          15\n Doctorate        14\n 5th-6th          11\n Prof-school      10\n 12th              9\n 1st-4th           7\n Preschool         2\nName: education, dtype: int64"
     },
     "execution_count": 7,
     "metadata": {},
     "output_type": "execute_result"
    }
   ],
   "source": [
    "data[\"education\"].value_counts()"
   ]
  },
  {
   "cell_type": "code",
   "execution_count": 8,
   "metadata": {},
   "outputs": [
    {
     "data": {
      "text/plain": " Male      670\n Female    329\nName: gender, dtype: int64"
     },
     "execution_count": 8,
     "metadata": {},
     "output_type": "execute_result"
    }
   ],
   "source": [
    "data[\"gender\"].value_counts()"
   ]
  },
  {
   "cell_type": "code",
   "execution_count": 9,
   "metadata": {},
   "outputs": [
    {
     "data": {
      "text/plain": " Craft-repair         126\n Exec-managerial      124\n Prof-specialty       124\n Sales                112\n Other-service        107\n Adm-clerical          93\n Machine-op-inspct     61\n Transport-moving      52\n Tech-support          44\n Handlers-cleaners     43\n Farming-fishing       31\n Protective-serv       16\n Priv-house-serv        3\n Armed-Forces           1\nName: occupation, dtype: int64"
     },
     "execution_count": 9,
     "metadata": {},
     "output_type": "execute_result"
    }
   ],
   "source": [
    "data[\"occupation\"].value_counts()"
   ]
  },
  {
   "cell_type": "markdown",
   "metadata": {},
   "source": [
    "Sprawdźmy, czy etykiety przyjmują wartości 0 lub 1.\n",
    "\n",
    "Jak nie to musimy jes troszkę przerobić."
   ]
  },
  {
   "cell_type": "code",
   "execution_count": 10,
   "metadata": {},
   "outputs": [
    {
     "name": "stdout",
     "output_type": "stream",
     "text": [
      "X.shape: (999, 8) y.shape: (999,)\n"
     ]
    }
   ],
   "source": [
    "X = data.drop(['income'], axis=1)\n",
    "y = data['income'].values\n",
    "np.unique(y)\n",
    "y[ y == ' <=50K'] = 0\n",
    "y[ y == ' >50K'] = 1\n",
    "\n",
    "from sklearn.preprocessing import LabelEncoder\n",
    "\n",
    "label_encoder = LabelEncoder()\n",
    "y = label_encoder.fit_transform(y)\n",
    "\n",
    "print(\"X.shape: {} y.shape: {}\".format(X.shape, y.shape))"
   ]
  },
  {
   "cell_type": "markdown",
   "metadata": {},
   "source": [
    "Podzielmy zbiór na train/test"
   ]
  },
  {
   "cell_type": "code",
   "execution_count": 11,
   "metadata": {},
   "outputs": [],
   "source": [
    "from sklearn.model_selection import train_test_split\n",
    "X_train, X_test, y_train, y_test = train_test_split(X, y, test_size=0.20, random_state=42)"
   ]
  },
  {
   "cell_type": "markdown",
   "metadata": {},
   "source": [
    "Teraz zbudujmy nasze **pipeline** preprocessingu. \n",
    "\n",
    "Wykorzystamy DataframeSelector aby wybrać określone atrybuty z DataFrame:"
   ]
  },
  {
   "cell_type": "code",
   "execution_count": 12,
   "metadata": {},
   "outputs": [],
   "source": [
    "from sklearn.base import BaseEstimator, TransformerMixin\n",
    "\n",
    "# A class to select numerical or categorical columns \n",
    "# since Scikit-Learn doesn't handle DataFrames yet\n",
    "class DataFrameSelector(BaseEstimator, TransformerMixin):\n",
    "    def __init__(self, attribute_names):\n",
    "        self.attribute_names = attribute_names\n",
    "    def fit(self, X, y=None):\n",
    "        return self\n",
    "    def transform(self, X):\n",
    "        return X[self.attribute_names]"
   ]
  },
  {
   "cell_type": "markdown",
   "metadata": {},
   "source": [
    "Zbudujmy **pipeline** dla atrybutów numerycznych:"
   ]
  },
  {
   "cell_type": "code",
   "execution_count": 13,
   "metadata": {},
   "outputs": [],
   "source": [
    "from sklearn.pipeline import Pipeline\n",
    "from sklearn.impute import SimpleImputer\n",
    "\n",
    "\n",
    "num_pipeline = Pipeline([\n",
    "        (\"select_numeric\", DataFrameSelector([\"education-num\"])),\n",
    "        (\"imputer\", SimpleImputer(strategy=\"median\")),\n",
    "    ])"
   ]
  },
  {
   "cell_type": "code",
   "execution_count": 14,
   "metadata": {},
   "outputs": [
    {
     "data": {
      "text/plain": "array([[10.],\n       [10.],\n       [12.],\n       [ 9.],\n       [13.],\n       [ 9.],\n       [10.],\n       [10.],\n       [ 9.],\n       [ 9.],\n       [ 7.],\n       [14.],\n       [10.],\n       [ 9.],\n       [10.],\n       [ 9.],\n       [ 9.],\n       [10.],\n       [ 9.],\n       [10.],\n       [12.],\n       [ 9.],\n       [10.],\n       [13.],\n       [ 9.],\n       [ 2.],\n       [ 9.],\n       [ 9.],\n       [12.],\n       [ 9.],\n       [10.],\n       [13.],\n       [10.],\n       [10.],\n       [10.],\n       [ 6.],\n       [13.],\n       [ 7.],\n       [14.],\n       [11.],\n       [12.],\n       [13.],\n       [ 9.],\n       [ 7.],\n       [ 9.],\n       [14.],\n       [ 9.],\n       [ 9.],\n       [ 7.],\n       [13.],\n       [ 7.],\n       [ 9.],\n       [13.],\n       [ 2.],\n       [ 7.],\n       [14.],\n       [ 6.],\n       [10.],\n       [ 5.],\n       [13.],\n       [11.],\n       [12.],\n       [10.],\n       [ 7.],\n       [10.],\n       [ 9.],\n       [10.],\n       [ 7.],\n       [10.],\n       [13.],\n       [ 9.],\n       [13.],\n       [13.],\n       [13.],\n       [10.],\n       [14.],\n       [ 5.],\n       [ 9.],\n       [10.],\n       [10.],\n       [15.],\n       [13.],\n       [13.],\n       [10.],\n       [ 9.],\n       [ 9.],\n       [ 9.],\n       [11.],\n       [ 9.],\n       [13.],\n       [ 9.],\n       [ 9.],\n       [ 9.],\n       [ 9.],\n       [10.],\n       [10.],\n       [14.],\n       [14.],\n       [13.],\n       [ 9.],\n       [ 7.],\n       [ 6.],\n       [10.],\n       [13.],\n       [13.],\n       [ 9.],\n       [ 8.],\n       [ 7.],\n       [10.],\n       [13.],\n       [ 7.],\n       [ 9.],\n       [10.],\n       [ 9.],\n       [ 9.],\n       [ 9.],\n       [ 9.],\n       [10.],\n       [ 9.],\n       [ 9.],\n       [10.],\n       [ 9.],\n       [ 3.],\n       [13.],\n       [10.],\n       [ 1.],\n       [ 8.],\n       [ 9.],\n       [12.],\n       [10.],\n       [10.],\n       [14.],\n       [13.],\n       [13.],\n       [ 3.],\n       [ 8.],\n       [11.],\n       [ 9.],\n       [ 9.],\n       [10.],\n       [ 7.],\n       [13.],\n       [10.],\n       [ 9.],\n       [ 7.],\n       [12.],\n       [10.],\n       [13.],\n       [10.],\n       [ 9.],\n       [14.],\n       [10.],\n       [13.],\n       [ 9.],\n       [10.],\n       [ 9.],\n       [10.],\n       [ 9.],\n       [ 7.],\n       [ 5.],\n       [ 9.],\n       [ 9.],\n       [10.],\n       [ 9.],\n       [ 9.],\n       [13.],\n       [ 9.],\n       [13.],\n       [ 9.],\n       [ 9.],\n       [10.],\n       [13.],\n       [ 9.],\n       [ 9.],\n       [ 7.],\n       [10.],\n       [10.],\n       [14.],\n       [ 9.],\n       [10.],\n       [13.],\n       [ 9.],\n       [ 2.],\n       [13.],\n       [ 6.],\n       [13.],\n       [13.],\n       [10.],\n       [13.],\n       [13.],\n       [13.],\n       [ 9.],\n       [ 6.],\n       [11.],\n       [ 3.],\n       [ 9.],\n       [16.],\n       [ 7.],\n       [13.],\n       [10.],\n       [ 9.],\n       [ 9.],\n       [13.],\n       [13.],\n       [ 9.],\n       [ 9.],\n       [15.],\n       [ 9.],\n       [13.],\n       [10.],\n       [10.],\n       [10.],\n       [11.],\n       [11.],\n       [ 9.],\n       [ 9.],\n       [ 9.],\n       [ 9.],\n       [14.],\n       [ 9.],\n       [13.],\n       [ 9.],\n       [10.],\n       [13.],\n       [ 9.],\n       [ 9.],\n       [10.],\n       [14.],\n       [15.],\n       [14.],\n       [ 9.],\n       [ 9.],\n       [10.],\n       [12.],\n       [ 4.],\n       [ 9.],\n       [ 9.],\n       [11.],\n       [ 1.],\n       [ 9.],\n       [ 6.],\n       [10.],\n       [ 9.],\n       [ 9.],\n       [10.],\n       [ 9.],\n       [12.],\n       [ 9.],\n       [10.],\n       [13.],\n       [ 9.],\n       [14.],\n       [ 9.],\n       [ 9.],\n       [10.],\n       [ 5.],\n       [ 9.],\n       [16.],\n       [ 9.],\n       [ 9.],\n       [14.],\n       [13.],\n       [13.],\n       [ 9.],\n       [ 5.],\n       [ 7.],\n       [16.],\n       [ 9.],\n       [10.],\n       [ 9.],\n       [13.],\n       [11.],\n       [14.],\n       [ 9.],\n       [10.],\n       [ 9.],\n       [ 9.],\n       [10.],\n       [14.],\n       [10.],\n       [13.],\n       [ 9.],\n       [12.],\n       [ 9.],\n       [ 9.],\n       [10.],\n       [ 7.],\n       [10.],\n       [ 9.],\n       [15.],\n       [ 9.],\n       [13.],\n       [ 9.],\n       [13.],\n       [10.],\n       [ 7.],\n       [ 9.],\n       [ 9.],\n       [ 4.],\n       [ 9.],\n       [10.],\n       [ 8.],\n       [ 9.],\n       [10.],\n       [10.],\n       [10.],\n       [ 9.],\n       [ 9.],\n       [11.],\n       [10.],\n       [ 9.],\n       [13.],\n       [ 9.],\n       [ 9.],\n       [ 9.],\n       [ 9.],\n       [10.],\n       [ 9.],\n       [ 7.],\n       [11.],\n       [10.],\n       [13.],\n       [11.],\n       [13.],\n       [ 9.],\n       [ 9.],\n       [ 9.],\n       [10.],\n       [13.],\n       [ 9.],\n       [10.],\n       [ 5.],\n       [14.],\n       [ 7.],\n       [14.],\n       [ 9.],\n       [12.],\n       [10.],\n       [ 9.],\n       [16.],\n       [14.],\n       [13.],\n       [13.],\n       [10.],\n       [ 9.],\n       [10.],\n       [ 9.],\n       [ 9.],\n       [12.],\n       [11.],\n       [11.],\n       [10.],\n       [ 9.],\n       [ 9.],\n       [ 6.],\n       [10.],\n       [ 9.],\n       [14.],\n       [13.],\n       [10.],\n       [13.],\n       [ 7.],\n       [14.],\n       [ 7.],\n       [ 5.],\n       [ 5.],\n       [ 9.],\n       [ 9.],\n       [10.],\n       [10.],\n       [13.],\n       [ 9.],\n       [ 9.],\n       [13.],\n       [14.],\n       [11.],\n       [10.],\n       [10.],\n       [10.],\n       [10.],\n       [16.],\n       [ 9.],\n       [11.],\n       [13.],\n       [10.],\n       [13.],\n       [13.],\n       [12.],\n       [ 9.],\n       [ 9.],\n       [10.],\n       [ 9.],\n       [ 9.],\n       [13.],\n       [ 9.],\n       [13.],\n       [ 4.],\n       [ 9.],\n       [14.],\n       [ 7.],\n       [ 9.],\n       [ 7.],\n       [ 9.],\n       [ 9.],\n       [ 9.],\n       [10.],\n       [10.],\n       [ 9.],\n       [ 9.],\n       [10.],\n       [ 9.],\n       [ 9.],\n       [13.],\n       [ 9.],\n       [ 9.],\n       [14.],\n       [10.],\n       [ 9.],\n       [ 9.],\n       [10.],\n       [ 9.],\n       [ 8.],\n       [10.],\n       [ 9.],\n       [11.],\n       [11.],\n       [13.],\n       [ 9.],\n       [10.],\n       [ 4.],\n       [10.],\n       [ 9.],\n       [10.],\n       [ 9.],\n       [ 6.],\n       [10.],\n       [11.],\n       [10.],\n       [14.],\n       [ 9.],\n       [ 7.],\n       [10.],\n       [ 9.],\n       [10.],\n       [10.],\n       [ 9.],\n       [14.],\n       [16.],\n       [11.],\n       [ 3.],\n       [16.],\n       [ 9.],\n       [13.],\n       [11.],\n       [ 7.],\n       [10.],\n       [13.],\n       [ 9.],\n       [15.],\n       [ 9.],\n       [11.],\n       [ 6.],\n       [11.],\n       [ 9.],\n       [ 9.],\n       [14.],\n       [ 9.],\n       [13.],\n       [10.],\n       [13.],\n       [ 7.],\n       [11.],\n       [13.],\n       [10.],\n       [ 9.],\n       [13.],\n       [ 4.],\n       [10.],\n       [ 9.],\n       [ 9.],\n       [13.],\n       [ 9.],\n       [13.],\n       [13.],\n       [ 9.],\n       [12.],\n       [16.],\n       [10.],\n       [10.],\n       [ 9.],\n       [ 7.],\n       [ 5.],\n       [ 7.],\n       [13.],\n       [10.],\n       [ 9.],\n       [ 9.],\n       [ 8.],\n       [ 9.],\n       [ 9.],\n       [ 9.],\n       [11.],\n       [ 9.],\n       [13.],\n       [13.],\n       [ 7.],\n       [ 9.],\n       [13.],\n       [10.],\n       [ 3.],\n       [ 8.],\n       [13.],\n       [13.],\n       [11.],\n       [13.],\n       [10.],\n       [13.],\n       [ 6.],\n       [10.],\n       [13.],\n       [14.],\n       [14.],\n       [13.],\n       [13.],\n       [10.],\n       [13.],\n       [10.],\n       [10.],\n       [10.],\n       [ 9.],\n       [ 2.],\n       [ 3.],\n       [ 6.],\n       [10.],\n       [13.],\n       [10.],\n       [12.],\n       [ 3.],\n       [11.],\n       [13.],\n       [14.],\n       [10.],\n       [10.],\n       [10.],\n       [10.],\n       [13.],\n       [ 6.],\n       [ 9.],\n       [10.],\n       [ 9.],\n       [13.],\n       [ 9.],\n       [10.],\n       [13.],\n       [11.],\n       [13.],\n       [ 9.],\n       [ 9.],\n       [ 3.],\n       [10.],\n       [10.],\n       [10.],\n       [13.],\n       [ 9.],\n       [ 7.],\n       [ 9.],\n       [12.],\n       [10.],\n       [15.],\n       [10.],\n       [10.],\n       [10.],\n       [13.],\n       [ 9.],\n       [ 2.],\n       [13.],\n       [ 5.],\n       [ 4.],\n       [13.],\n       [10.],\n       [13.],\n       [13.],\n       [10.],\n       [ 9.],\n       [ 9.],\n       [ 9.],\n       [ 6.],\n       [ 9.],\n       [12.],\n       [10.],\n       [ 9.],\n       [ 9.],\n       [10.],\n       [ 9.],\n       [13.],\n       [ 9.],\n       [ 9.],\n       [ 9.],\n       [ 9.],\n       [ 9.],\n       [ 6.],\n       [13.],\n       [ 9.],\n       [ 9.],\n       [10.],\n       [ 9.],\n       [ 2.],\n       [10.],\n       [10.],\n       [16.],\n       [ 9.],\n       [10.],\n       [10.],\n       [13.],\n       [13.],\n       [ 9.],\n       [10.],\n       [16.],\n       [13.],\n       [ 9.],\n       [11.],\n       [13.],\n       [10.],\n       [ 9.],\n       [11.],\n       [ 9.],\n       [ 9.],\n       [13.],\n       [10.],\n       [13.],\n       [10.],\n       [13.],\n       [13.],\n       [14.],\n       [ 9.],\n       [10.],\n       [13.],\n       [13.],\n       [13.],\n       [10.],\n       [ 9.],\n       [ 7.],\n       [ 9.],\n       [ 9.],\n       [ 9.],\n       [16.],\n       [ 9.],\n       [10.],\n       [11.],\n       [10.],\n       [10.],\n       [ 7.],\n       [ 9.],\n       [14.],\n       [ 9.],\n       [ 5.],\n       [ 9.],\n       [ 9.],\n       [11.],\n       [ 9.],\n       [ 4.],\n       [ 9.],\n       [ 9.],\n       [12.],\n       [13.],\n       [ 9.],\n       [10.],\n       [16.],\n       [ 9.],\n       [ 9.],\n       [10.],\n       [10.],\n       [ 9.],\n       [ 9.],\n       [13.],\n       [ 9.],\n       [10.],\n       [ 4.],\n       [10.],\n       [13.],\n       [ 9.],\n       [ 9.],\n       [14.],\n       [13.],\n       [13.],\n       [10.],\n       [13.],\n       [ 9.],\n       [ 9.],\n       [13.],\n       [ 9.],\n       [13.],\n       [13.],\n       [10.],\n       [ 6.],\n       [10.],\n       [13.],\n       [ 9.],\n       [14.],\n       [11.],\n       [10.],\n       [ 9.],\n       [13.],\n       [14.],\n       [ 9.],\n       [10.],\n       [13.],\n       [10.],\n       [10.],\n       [11.],\n       [ 9.],\n       [ 6.],\n       [14.],\n       [ 9.],\n       [ 9.],\n       [15.],\n       [ 9.],\n       [10.],\n       [13.],\n       [13.],\n       [ 7.],\n       [10.],\n       [ 9.],\n       [ 9.],\n       [11.],\n       [12.],\n       [10.],\n       [12.],\n       [13.],\n       [ 9.],\n       [ 7.],\n       [14.],\n       [12.],\n       [11.],\n       [10.],\n       [10.],\n       [10.],\n       [ 9.],\n       [14.],\n       [10.],\n       [ 9.],\n       [ 9.],\n       [ 9.],\n       [10.],\n       [ 9.],\n       [13.],\n       [10.],\n       [10.],\n       [ 4.],\n       [ 9.],\n       [ 9.],\n       [13.],\n       [10.],\n       [10.],\n       [13.],\n       [ 5.],\n       [ 9.],\n       [ 3.],\n       [ 9.],\n       [13.],\n       [13.],\n       [ 9.],\n       [ 7.],\n       [10.],\n       [ 5.],\n       [10.],\n       [12.],\n       [ 9.],\n       [10.],\n       [10.],\n       [13.],\n       [ 9.],\n       [14.],\n       [10.],\n       [12.],\n       [10.],\n       [10.],\n       [10.],\n       [10.],\n       [ 9.],\n       [10.],\n       [14.],\n       [14.],\n       [ 9.],\n       [ 5.],\n       [10.],\n       [13.],\n       [13.],\n       [10.],\n       [13.],\n       [ 9.],\n       [ 9.],\n       [13.],\n       [13.],\n       [ 7.],\n       [ 5.],\n       [ 9.],\n       [ 9.],\n       [10.]])"
     },
     "execution_count": 14,
     "metadata": {},
     "output_type": "execute_result"
    }
   ],
   "source": [
    "num_pipeline.fit_transform(X_train)"
   ]
  },
  {
   "cell_type": "markdown",
   "metadata": {},
   "source": [
    "Będziemy także potrzebować imputera do kategorycznych kolumn napisowych (zwykły Imputer nie działa na tych kolumnach):"
   ]
  },
  {
   "cell_type": "code",
   "execution_count": 15,
   "metadata": {},
   "outputs": [],
   "source": [
    "# Inspired from stackoverflow.com/questions/25239958\n",
    "class MostFrequentImputer(BaseEstimator, TransformerMixin):\n",
    "    def fit(self, X, y=None):\n",
    "        self.most_frequent_ = pd.Series([X[c].value_counts().index[0] for c in X],\n",
    "                                        index=X.columns)\n",
    "        return self\n",
    "    def transform(self, X, y=None):\n",
    "        return X.fillna(self.most_frequent_)"
   ]
  },
  {
   "cell_type": "markdown",
   "metadata": {},
   "source": [
    "Teraz możemy zbudować pipeline dla atrybutów kategorycznych.\n",
    "\n",
    "We can convert each categorical value to a one-hot vector using a OneHotEncoder. Right now this class can only handle integer categorical inputs, but in Scikit-Learn 0.20 it will also handle string categorical inputs (see PR https://github.com/scikit-learn/scikit-learn/issues/10521). So for now we import it from future_encoders.py"
   ]
  },
  {
   "cell_type": "code",
   "execution_count": 16,
   "metadata": {},
   "outputs": [],
   "source": [
    "# from future_encoders import OneHotEncoder\n",
    "from sklearn.preprocessing import OneHotEncoder\n",
    "\n",
    "cat_pipeline = Pipeline([\n",
    "        (\"select_cat\", DataFrameSelector([\"workclass\", \"education\", \"occupation\", \"gender\"])),\n",
    "        (\"imputer\", MostFrequentImputer()),\n",
    "        (\"cat_encoder\", OneHotEncoder(sparse=False, handle_unknown = 'ignore')),\n",
    "    ])"
   ]
  },
  {
   "cell_type": "code",
   "execution_count": 17,
   "metadata": {},
   "outputs": [
    {
     "data": {
      "text/plain": "array([[0., 0., 1., ..., 0., 0., 1.],\n       [0., 0., 1., ..., 0., 0., 1.],\n       [1., 0., 0., ..., 0., 0., 1.],\n       ...,\n       [0., 0., 1., ..., 0., 0., 1.],\n       [0., 1., 0., ..., 0., 0., 1.],\n       [0., 0., 1., ..., 0., 1., 0.]])"
     },
     "execution_count": 17,
     "metadata": {},
     "output_type": "execute_result"
    }
   ],
   "source": [
    "cat_pipeline.fit_transform(X_train)"
   ]
  },
  {
   "cell_type": "markdown",
   "metadata": {},
   "source": [
    "Na koniec połączmy powyższe podejścia:"
   ]
  },
  {
   "cell_type": "code",
   "execution_count": 18,
   "metadata": {},
   "outputs": [],
   "source": [
    "from sklearn.pipeline import FeatureUnion\n",
    "preprocess_pipeline = FeatureUnion(transformer_list=[\n",
    "        (\"num_pipeline\", num_pipeline),\n",
    "        (\"cat_pipeline\", cat_pipeline),\n",
    "    ])"
   ]
  },
  {
   "cell_type": "markdown",
   "metadata": {},
   "source": [
    "# Zad\n",
    "\n",
    "Robimy StratifiedKFold i znajdujemy optymalne parametry dla\n",
    "\n",
    "* SVM z jądrem rbf\n",
    "* SVM z jądrem poly\n",
    "* SVM liniowego\n",
    "* Regresji logistycznej"
   ]
  },
  {
   "cell_type": "code",
   "execution_count": 19,
   "metadata": {},
   "outputs": [
    {
     "ename": "ValueError",
     "evalue": "Setting a random_state has no effect since shuffle is False. You should leave random_state to its default (None), or set shuffle=True.",
     "output_type": "error",
     "traceback": [
      "\u001B[0;31m---------------------------------------------------------------------------\u001B[0m",
      "\u001B[0;31mValueError\u001B[0m                                Traceback (most recent call last)",
      "Input \u001B[0;32mIn [19]\u001B[0m, in \u001B[0;36m<cell line: 4>\u001B[0;34m()\u001B[0m\n\u001B[1;32m      1\u001B[0m \u001B[38;5;28;01mfrom\u001B[39;00m \u001B[38;5;21;01msklearn\u001B[39;00m\u001B[38;5;21;01m.\u001B[39;00m\u001B[38;5;21;01mmodel_selection\u001B[39;00m \u001B[38;5;28;01mimport\u001B[39;00m StratifiedKFold\n\u001B[1;32m      3\u001B[0m seed\u001B[38;5;241m=\u001B[39m\u001B[38;5;241m123\u001B[39m\n\u001B[0;32m----> 4\u001B[0m kfold \u001B[38;5;241m=\u001B[39m \u001B[43mStratifiedKFold\u001B[49m\u001B[43m(\u001B[49m\u001B[43mn_splits\u001B[49m\u001B[38;5;241;43m=\u001B[39;49m\u001B[38;5;241;43m5\u001B[39;49m\u001B[43m,\u001B[49m\u001B[43m \u001B[49m\u001B[43mrandom_state\u001B[49m\u001B[38;5;241;43m=\u001B[39;49m\u001B[43mseed\u001B[49m\u001B[43m)\u001B[49m\n",
      "File \u001B[0;32m~/PycharmProjects/PSI09/venv/lib/python3.10/site-packages/sklearn/model_selection/_split.py:644\u001B[0m, in \u001B[0;36mStratifiedKFold.__init__\u001B[0;34m(self, n_splits, shuffle, random_state)\u001B[0m\n\u001B[1;32m    643\u001B[0m \u001B[38;5;28;01mdef\u001B[39;00m \u001B[38;5;21m__init__\u001B[39m(\u001B[38;5;28mself\u001B[39m, n_splits\u001B[38;5;241m=\u001B[39m\u001B[38;5;241m5\u001B[39m, \u001B[38;5;241m*\u001B[39m, shuffle\u001B[38;5;241m=\u001B[39m\u001B[38;5;28;01mFalse\u001B[39;00m, random_state\u001B[38;5;241m=\u001B[39m\u001B[38;5;28;01mNone\u001B[39;00m):\n\u001B[0;32m--> 644\u001B[0m     \u001B[38;5;28;43msuper\u001B[39;49m\u001B[43m(\u001B[49m\u001B[43m)\u001B[49m\u001B[38;5;241;43m.\u001B[39;49m\u001B[38;5;21;43m__init__\u001B[39;49m\u001B[43m(\u001B[49m\u001B[43mn_splits\u001B[49m\u001B[38;5;241;43m=\u001B[39;49m\u001B[43mn_splits\u001B[49m\u001B[43m,\u001B[49m\u001B[43m \u001B[49m\u001B[43mshuffle\u001B[49m\u001B[38;5;241;43m=\u001B[39;49m\u001B[43mshuffle\u001B[49m\u001B[43m,\u001B[49m\u001B[43m \u001B[49m\u001B[43mrandom_state\u001B[49m\u001B[38;5;241;43m=\u001B[39;49m\u001B[43mrandom_state\u001B[49m\u001B[43m)\u001B[49m\n",
      "File \u001B[0;32m~/PycharmProjects/PSI09/venv/lib/python3.10/site-packages/sklearn/model_selection/_split.py:296\u001B[0m, in \u001B[0;36m_BaseKFold.__init__\u001B[0;34m(self, n_splits, shuffle, random_state)\u001B[0m\n\u001B[1;32m    293\u001B[0m     \u001B[38;5;28;01mraise\u001B[39;00m \u001B[38;5;167;01mTypeError\u001B[39;00m(\u001B[38;5;124m\"\u001B[39m\u001B[38;5;124mshuffle must be True or False; got \u001B[39m\u001B[38;5;132;01m{0}\u001B[39;00m\u001B[38;5;124m\"\u001B[39m\u001B[38;5;241m.\u001B[39mformat(shuffle))\n\u001B[1;32m    295\u001B[0m \u001B[38;5;28;01mif\u001B[39;00m \u001B[38;5;129;01mnot\u001B[39;00m shuffle \u001B[38;5;129;01mand\u001B[39;00m random_state \u001B[38;5;129;01mis\u001B[39;00m \u001B[38;5;129;01mnot\u001B[39;00m \u001B[38;5;28;01mNone\u001B[39;00m:  \u001B[38;5;66;03m# None is the default\u001B[39;00m\n\u001B[0;32m--> 296\u001B[0m     \u001B[38;5;28;01mraise\u001B[39;00m \u001B[38;5;167;01mValueError\u001B[39;00m(\n\u001B[1;32m    297\u001B[0m         \u001B[38;5;124m\"\u001B[39m\u001B[38;5;124mSetting a random_state has no effect since shuffle is \u001B[39m\u001B[38;5;124m\"\u001B[39m\n\u001B[1;32m    298\u001B[0m         \u001B[38;5;124m\"\u001B[39m\u001B[38;5;124mFalse. You should leave \u001B[39m\u001B[38;5;124m\"\u001B[39m\n\u001B[1;32m    299\u001B[0m         \u001B[38;5;124m\"\u001B[39m\u001B[38;5;124mrandom_state to its default (None), or set shuffle=True.\u001B[39m\u001B[38;5;124m\"\u001B[39m,\n\u001B[1;32m    300\u001B[0m     )\n\u001B[1;32m    302\u001B[0m \u001B[38;5;28mself\u001B[39m\u001B[38;5;241m.\u001B[39mn_splits \u001B[38;5;241m=\u001B[39m n_splits\n\u001B[1;32m    303\u001B[0m \u001B[38;5;28mself\u001B[39m\u001B[38;5;241m.\u001B[39mshuffle \u001B[38;5;241m=\u001B[39m shuffle\n",
      "\u001B[0;31mValueError\u001B[0m: Setting a random_state has no effect since shuffle is False. You should leave random_state to its default (None), or set shuffle=True."
     ]
    }
   ],
   "source": [
    "from sklearn.model_selection import StratifiedKFold\n",
    "\n",
    "seed=123\n",
    "kfold = StratifiedKFold(n_splits=5, random_state=seed, shuffle=True)"
   ]
  },
  {
   "cell_type": "code",
   "execution_count": null,
   "metadata": {},
   "outputs": [],
   "source": [
    "from sklearn.svm import SVC\n",
    "from sklearn.pipeline import Pipeline\n",
    "from sklearn.model_selection import GridSearchCV\n",
    "pipe = Pipeline([\n",
    "    ('preprocessing', preprocess_pipeline), \n",
    "    ('classifier', SVC(kernel='linear'))])\n",
    "\n",
    "\n",
    "param_grid = {\n",
    "            'classifier__C': [0.001, 0.01, 0.1, 1, 10, 100]\n",
    "}\n",
    "\n",
    "grid_1 = GridSearchCV(pipe, param_grid, cv=kfold)\n",
    "\n",
    "grid_1.fit(X_train, y_train)\n",
    "grid_1.best_params_"
   ]
  },
  {
   "cell_type": "code",
   "execution_count": null,
   "metadata": {},
   "outputs": [],
   "source": [
    "pipe = Pipeline([\n",
    "    ('preprocessing', preprocess_pipeline),\n",
    "    ('classifier', SVC(kernel='rbf'))])\n",
    "\n",
    "\n",
    "param_grid = {\n",
    "            'classifier__C': [0.001, 0.01, 0.1, 1, 10, 100]\n",
    "}\n",
    "\n",
    "grid_2 = GridSearchCV(pipe, param_grid, cv=kfold)\n",
    "\n",
    "grid_2.fit(X_train, y_train)\n",
    "grid_2.best_params_"
   ]
  },
  {
   "cell_type": "code",
   "execution_count": null,
   "metadata": {},
   "outputs": [],
   "source": [
    "pipe = Pipeline([\n",
    "    ('preprocessing', preprocess_pipeline),\n",
    "    ('classifier', SVC(kernel='poly'))])\n",
    "\n",
    "\n",
    "param_grid = {\n",
    "            'classifier__C': [0.001, 0.01, 0.1, 1, 10, 100]\n",
    "}\n",
    "\n",
    "grid_3 = GridSearchCV(pipe, param_grid, cv=kfold)\n",
    "\n",
    "grid_3.fit(X_train, y_train)\n",
    "grid_3.best_params_\n",
    "#%\n"
   ]
  },
  {
   "cell_type": "code",
   "execution_count": null,
   "outputs": [],
   "source": [
    "from sklearn.linear_model import LogisticRegression\n",
    "\n",
    "pipe = Pipeline([\n",
    "    ('preprocessing', preprocess_pipeline),\n",
    "    ('classifier', LogisticRegression())])\n",
    "\n",
    "\n",
    "param_grid = {\n",
    "            'classifier__C': [0.001, 0.01, 0.1, 1, 10, 100]\n",
    "}\n",
    "\n",
    "grid_4 = GridSearchCV(pipe, param_grid, cv=kfold)\n",
    "\n",
    "grid_4.fit(X_train, y_train)\n",
    "grid_4.best_params_"
   ],
   "metadata": {
    "collapsed": false,
    "pycharm": {
     "name": "#%%\n"
    }
   }
  },
  {
   "cell_type": "code",
   "execution_count": null,
   "outputs": [],
   "source": [
    "from sklearn import  metrics\n",
    "\n",
    "\n",
    "models = []\n",
    "models.append(('SVM linear', grid_1.best_estimator_))\n",
    "\n",
    "\n",
    "\n",
    "precision_score = []\n",
    "recall_score = []\n",
    "f1_score = []\n",
    "accuracy_score = []\n",
    "for name, model in models:\n",
    "    print(name)\n",
    "    print(\"precision_score: {}\".format(metrics.precision_score(y_test, model.predict(X_test)) ))\n",
    "    print(\"recall_score: {}\".format( metrics.recall_score(y_test, model.predict(X_test)) ))\n",
    "    print(\"f1_score: {}\".format( metrics.f1_score(y_test, model.predict(X_test)) ))\n",
    "    print(\"accuracy_score: {}\".format( metrics.accuracy_score(y_test, model.predict(X_test)) ))\n",
    "    precision_score.append(metrics.precision_score(y_test, model.predict(X_test)))\n",
    "    recall_score.append(metrics.recall_score(y_test, model.predict(X_test)))\n",
    "    f1_score.append( metrics.f1_score(y_test, model.predict(X_test)))\n",
    "    accuracy_score.append(metrics.accuracy_score(y_test, model.predict(X_test)))"
   ],
   "metadata": {
    "collapsed": false,
    "pycharm": {
     "name": "#%%\n"
    }
   }
  },
  {
   "cell_type": "code",
   "execution_count": null,
   "metadata": {},
   "outputs": [],
   "source": [
    "import pandas as pd\n",
    "d = {'precision_score': precision_score, \n",
    "     'recall_score': recall_score, \n",
    "     'f1_score': f1_score,\n",
    "     'accuracy_score' : accuracy_score\n",
    "    }\n",
    "df = pd.DataFrame(data=d)\n",
    "df.insert(loc=0, column='Method', value=['SVM linear'])\n",
    "df"
   ]
  },
  {
   "cell_type": "code",
   "execution_count": null,
   "metadata": {},
   "outputs": [],
   "source": []
  },
  {
   "cell_type": "code",
   "execution_count": null,
   "metadata": {},
   "outputs": [],
   "source": []
  },
  {
   "cell_type": "code",
   "execution_count": null,
   "metadata": {},
   "outputs": [],
   "source": []
  }
 ],
 "metadata": {
  "kernelspec": {
   "display_name": "Python 3",
   "language": "python",
   "name": "python3"
  },
  "language_info": {
   "codemirror_mode": {
    "name": "ipython",
    "version": 3
   },
   "file_extension": ".py",
   "mimetype": "text/x-python",
   "name": "python",
   "nbconvert_exporter": "python",
   "pygments_lexer": "ipython3",
   "version": "3.7.6"
  }
 },
 "nbformat": 4,
 "nbformat_minor": 2
}