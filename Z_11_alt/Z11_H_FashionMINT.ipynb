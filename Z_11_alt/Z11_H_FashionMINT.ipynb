{
 "cells": [
  {
   "cell_type": "code",
   "execution_count": 2,
   "metadata": {},
   "outputs": [
    {
     "name": "stdout",
     "output_type": "stream",
     "text": [
      "2.8.0\n",
      "2.8.0\n"
     ]
    }
   ],
   "source": [
    "import tensorflow as tf\n",
    "from tensorflow import keras\n",
    "print(tf.__version__)\n",
    "\n",
    "print(keras.__version__)"
   ]
  },
  {
   "cell_type": "code",
   "execution_count": 3,
   "metadata": {},
   "outputs": [],
   "source": [
    "import numpy as np\n",
    "import pandas as pd\n",
    "import matplotlib.pyplot as plt\n",
    "import os"
   ]
  },
  {
   "cell_type": "code",
   "execution_count": 4,
   "metadata": {},
   "outputs": [
    {
     "name": "stdout",
     "output_type": "stream",
     "text": [
      "Downloading data from https://storage.googleapis.com/tensorflow/tf-keras-datasets/train-labels-idx1-ubyte.gz\n",
      "32768/29515 [=================================] - 0s 2us/step\n",
      "40960/29515 [=========================================] - 0s 1us/step\n",
      "Downloading data from https://storage.googleapis.com/tensorflow/tf-keras-datasets/train-images-idx3-ubyte.gz\n",
      "26427392/26421880 [==============================] - 8s 0us/step\n",
      "26435584/26421880 [==============================] - 8s 0us/step\n",
      "Downloading data from https://storage.googleapis.com/tensorflow/tf-keras-datasets/t10k-labels-idx1-ubyte.gz\n",
      "16384/5148 [===============================================================================================] - 0s 0us/step\n",
      "Downloading data from https://storage.googleapis.com/tensorflow/tf-keras-datasets/t10k-images-idx3-ubyte.gz\n",
      "4423680/4422102 [==============================] - 1s 0us/step\n",
      "4431872/4422102 [==============================] - 1s 0us/step\n"
     ]
    }
   ],
   "source": [
    "fashion_mnist = keras.datasets.fashion_mnist\n",
    "(X_train_full, y_train_full), (X_test, y_test) = fashion_mnist.load_data()"
   ]
  },
  {
   "cell_type": "code",
   "execution_count": 5,
   "metadata": {},
   "outputs": [
    {
     "data": {
      "text/plain": [
       "(60000, 28, 28)"
      ]
     },
     "execution_count": 5,
     "metadata": {},
     "output_type": "execute_result"
    }
   ],
   "source": [
    "X_train_full.shape"
   ]
  },
  {
   "cell_type": "markdown",
   "metadata": {},
   "source": [
    "Each pixel intensity is represented as a byte (0 to 255):"
   ]
  },
  {
   "cell_type": "code",
   "execution_count": 6,
   "metadata": {},
   "outputs": [
    {
     "data": {
      "text/plain": [
       "dtype('uint8')"
      ]
     },
     "execution_count": 6,
     "metadata": {},
     "output_type": "execute_result"
    }
   ],
   "source": [
    "X_train_full.dtype"
   ]
  },
  {
   "cell_type": "markdown",
   "metadata": {},
   "source": [
    "* Podzielmy pełny zestaw treningowy na zestaw walidacyjny i zestaw treningowy. \n",
    "* Kolor pikseli skalujemy również do zakresu 0-1 i przekształcamy na zmiennoprzecinkowe, dzieląc przez 255."
   ]
  },
  {
   "cell_type": "code",
   "execution_count": 7,
   "metadata": {},
   "outputs": [],
   "source": [
    "X_valid, X_train = X_train_full[:5000] / 255., X_train_full[5000:] / 255.\n",
    "y_valid, y_train = y_train_full[:5000], y_train_full[5000:]\n",
    "X_test = X_test / 255."
   ]
  },
  {
   "cell_type": "code",
   "execution_count": 8,
   "metadata": {},
   "outputs": [
    {
     "data": {
      "image/png": "[encoded data removed]",
      "text/plain": [
       "<Figure size 432x288 with 1 Axes>"
      ]
     },
     "metadata": {
      "needs_background": "light"
     },
     "output_type": "display_data"
    }
   ],
   "source": [
    "plt.imshow(X_train[0], cmap=\"binary\")\n",
    "plt.axis('off')\n",
    "plt.show()"
   ]
  },
  {
   "cell_type": "code",
   "execution_count": 9,
   "metadata": {},
   "outputs": [
    {
     "data": {
      "text/plain": [
       "array([4, 0, 7, ..., 3, 0, 5], dtype=uint8)"
      ]
     },
     "execution_count": 9,
     "metadata": {},
     "output_type": "execute_result"
    }
   ],
   "source": [
    "y_train"
   ]
  },
  {
   "cell_type": "markdown",
   "metadata": {},
   "source": [
    "Będziemy używać klas numerycznych i nazw."
   ]
  },
  {
   "cell_type": "code",
   "execution_count": 10,
   "metadata": {},
   "outputs": [
    {
     "data": {
      "text/plain": [
       "'Coat'"
      ]
     },
     "execution_count": 10,
     "metadata": {},
     "output_type": "execute_result"
    }
   ],
   "source": [
    "class_names = [\"T-shirt/top\", \"Trouser\", \"Pullover\", \"Dress\", \"Coat\",\n",
    "               \"Sandal\", \"Shirt\", \"Sneaker\", \"Bag\", \"Ankle boot\"]\n",
    "\n",
    "class_names[y_train[0]]"
   ]
  },
  {
   "cell_type": "markdown",
   "metadata": {},
   "source": [
    "Możemy narysować więcej przykładów treningowych."
   ]
  },
  {
   "cell_type": "code",
   "execution_count": 11,
   "metadata": {},
   "outputs": [
    {
     "data": {
      "image/png": "[encoded data removed]",
      "text/plain": [
       "<Figure size 864x345.6 with 40 Axes>"
      ]
     },
     "metadata": {
      "needs_background": "light"
     },
     "output_type": "display_data"
    }
   ],
   "source": [
    "n_rows = 4\n",
    "n_cols = 10\n",
    "plt.figure(figsize=(n_cols * 1.2, n_rows * 1.2))\n",
    "for row in range(n_rows):\n",
    "    for col in range(n_cols):\n",
    "        index = n_cols * row + col\n",
    "        plt.subplot(n_rows, n_cols, index + 1)\n",
    "        plt.imshow(X_train[index], cmap=\"binary\", interpolation=\"nearest\")\n",
    "        plt.axis('off')\n",
    "        plt.title(class_names[y_train[index]], fontsize=12)\n",
    "plt.subplots_adjust(wspace=0.2, hspace=0.5)\n",
    "plt.show()"
   ]
  },
  {
   "cell_type": "markdown",
   "metadata": {},
   "source": [
    "# Zad\n",
    "Zbuduj i naucz sieć neuronową zgodnie z poniższym schematem. "
   ]
  },
  {
   "cell_type": "code",
   "execution_count": 12,
   "metadata": {},
   "outputs": [
    {
     "data": {
      "text/plain": [
       "(55000, 28, 28)"
      ]
     },
     "execution_count": 12,
     "metadata": {},
     "output_type": "execute_result"
    }
   ],
   "source": [
    "X_train_full.shape\n",
    "X_train.shape\n"
   ]
  },
  {
   "cell_type": "code",
   "execution_count": 13,
   "metadata": {},
   "outputs": [
    {
     "name": "stdout",
     "output_type": "stream",
     "text": [
      "Model: \"sequential\"\n",
      "_________________________________________________________________\n",
      " Layer (type)                Output Shape              Param #   \n",
      "=================================================================\n",
      " flatten (Flatten)           (None, 784)               0         \n",
      "                                                                 \n",
      " dense (Dense)               (None, 300)               235500    \n",
      "                                                                 \n",
      " dense_1 (Dense)             (None, 100)               30100     \n",
      "                                                                 \n",
      " dense_2 (Dense)             (None, 10)                1010      \n",
      "                                                                 \n",
      "=================================================================\n",
      "Total params: 266,610\n",
      "Trainable params: 266,610\n",
      "Non-trainable params: 0\n",
      "_________________________________________________________________\n"
     ]
    }
   ],
   "source": [
    "from keras.models import Sequential\n",
    "from keras.layers import Dense\n",
    "from keras.callbacks import History\n",
    "from keras.layers import Flatten\n",
    "\n",
    "\n",
    "history = History()\n",
    "model = Sequential()\n",
    "# model.add(Dense(300,activation=\"sigmoid\", input_shape=(X_train.shape[1],)))\n",
    "model.add(Flatten(input_shape=(X_train.shape[1],28)))\n",
    "model.add(Dense(300,activation=\"sigmoid\"))\n",
    "model.add(Dense(100,activation=\"sigmoid\"))\n",
    "model.add(Dense(10,activation=\"sigmoid\"))\n",
    "model.summary()\n"
   ]
  },
  {
   "cell_type": "code",
   "execution_count": 14,
   "metadata": {},
   "outputs": [
    {
     "name": "stdout",
     "output_type": "stream",
     "text": [
      "Epoch 1/50\n"
     ]
    },
    {
     "name": "stderr",
     "output_type": "stream",
     "text": [
      "/home/zuza/anaconda3/lib/python3.8/site-packages/tensorflow/python/util/dispatch.py:1082: UserWarning: \"`sparse_categorical_crossentropy` received `from_logits=True`, but the `output` argument was produced by a sigmoid or softmax activation and thus does not represent logits. Was this intended?\"\n",
      "  return dispatch_target(*args, **kwargs)\n"
     ]
    },
    {
     "name": "stdout",
     "output_type": "stream",
     "text": [
      "1719/1719 [==============================] - 5s 3ms/step - loss: 0.5629 - accuracy: 0.8054 - val_loss: 0.4148 - val_accuracy: 0.8530\n",
      "Epoch 2/50\n",
      "1719/1719 [==============================] - 4s 3ms/step - loss: 0.3855 - accuracy: 0.8603 - val_loss: 0.3697 - val_accuracy: 0.8660\n",
      "Epoch 3/50\n",
      "1719/1719 [==============================] - 4s 3ms/step - loss: 0.3471 - accuracy: 0.8735 - val_loss: 0.3403 - val_accuracy: 0.8760\n",
      "Epoch 4/50\n",
      "1719/1719 [==============================] - 4s 3ms/step - loss: 0.3224 - accuracy: 0.8815 - val_loss: 0.3313 - val_accuracy: 0.8802\n",
      "Epoch 5/50\n",
      "1719/1719 [==============================] - 5s 3ms/step - loss: 0.3011 - accuracy: 0.8897 - val_loss: 0.3131 - val_accuracy: 0.8846\n",
      "Epoch 6/50\n",
      "1719/1719 [==============================] - 5s 3ms/step - loss: 0.2842 - accuracy: 0.8937 - val_loss: 0.3170 - val_accuracy: 0.8872\n",
      "Epoch 7/50\n",
      "1719/1719 [==============================] - 5s 3ms/step - loss: 0.2696 - accuracy: 0.8995 - val_loss: 0.3015 - val_accuracy: 0.8908\n",
      "Epoch 8/50\n",
      "1719/1719 [==============================] - 5s 3ms/step - loss: 0.2583 - accuracy: 0.9037 - val_loss: 0.2948 - val_accuracy: 0.8918\n",
      "Epoch 9/50\n",
      "1719/1719 [==============================] - 5s 3ms/step - loss: 0.2457 - accuracy: 0.9073 - val_loss: 0.2870 - val_accuracy: 0.8948\n",
      "Epoch 10/50\n",
      "1719/1719 [==============================] - 5s 3ms/step - loss: 0.2347 - accuracy: 0.9124 - val_loss: 0.3075 - val_accuracy: 0.8892\n",
      "Epoch 11/50\n",
      "1719/1719 [==============================] - 4s 3ms/step - loss: 0.2248 - accuracy: 0.9157 - val_loss: 0.3183 - val_accuracy: 0.8856\n",
      "Epoch 12/50\n",
      "1719/1719 [==============================] - 4s 3ms/step - loss: 0.2164 - accuracy: 0.9187 - val_loss: 0.2929 - val_accuracy: 0.8946\n",
      "Epoch 13/50\n",
      "1719/1719 [==============================] - 5s 3ms/step - loss: 0.2078 - accuracy: 0.9215 - val_loss: 0.2937 - val_accuracy: 0.8960\n",
      "Epoch 14/50\n",
      "1719/1719 [==============================] - 5s 3ms/step - loss: 0.1996 - accuracy: 0.9237 - val_loss: 0.2811 - val_accuracy: 0.9008\n",
      "Epoch 15/50\n",
      "1719/1719 [==============================] - 5s 3ms/step - loss: 0.1907 - accuracy: 0.9293 - val_loss: 0.2916 - val_accuracy: 0.8946\n",
      "Epoch 16/50\n",
      "1719/1719 [==============================] - 5s 3ms/step - loss: 0.1838 - accuracy: 0.9309 - val_loss: 0.2905 - val_accuracy: 0.9008\n",
      "Epoch 17/50\n",
      "1719/1719 [==============================] - 4s 3ms/step - loss: 0.1766 - accuracy: 0.9333 - val_loss: 0.2894 - val_accuracy: 0.8978\n",
      "Epoch 18/50\n",
      "1719/1719 [==============================] - 4s 3ms/step - loss: 0.1702 - accuracy: 0.9365 - val_loss: 0.2939 - val_accuracy: 0.8996\n",
      "Epoch 19/50\n",
      "1719/1719 [==============================] - 4s 3ms/step - loss: 0.1638 - accuracy: 0.9380 - val_loss: 0.3040 - val_accuracy: 0.8952\n",
      "Epoch 20/50\n",
      "1719/1719 [==============================] - 4s 3ms/step - loss: 0.1573 - accuracy: 0.9401 - val_loss: 0.2907 - val_accuracy: 0.9034\n",
      "Epoch 21/50\n",
      "1719/1719 [==============================] - 4s 3ms/step - loss: 0.1499 - accuracy: 0.9444 - val_loss: 0.2949 - val_accuracy: 0.9004\n",
      "Epoch 22/50\n",
      "1719/1719 [==============================] - 4s 3ms/step - loss: 0.1462 - accuracy: 0.9442 - val_loss: 0.3295 - val_accuracy: 0.8990\n",
      "Epoch 23/50\n",
      "1719/1719 [==============================] - 4s 3ms/step - loss: 0.1407 - accuracy: 0.9467 - val_loss: 0.3043 - val_accuracy: 0.9002\n",
      "Epoch 24/50\n",
      "1719/1719 [==============================] - 4s 3ms/step - loss: 0.1352 - accuracy: 0.9491 - val_loss: 0.2945 - val_accuracy: 0.9036\n",
      "Epoch 25/50\n",
      "1719/1719 [==============================] - 5s 3ms/step - loss: 0.1283 - accuracy: 0.9521 - val_loss: 0.3188 - val_accuracy: 0.8988\n",
      "Epoch 26/50\n",
      "1719/1719 [==============================] - 5s 3ms/step - loss: 0.1246 - accuracy: 0.9536 - val_loss: 0.3300 - val_accuracy: 0.8924\n",
      "Epoch 27/50\n",
      "1719/1719 [==============================] - 5s 3ms/step - loss: 0.1196 - accuracy: 0.9551 - val_loss: 0.3434 - val_accuracy: 0.8980\n",
      "Epoch 28/50\n",
      "1719/1719 [==============================] - 5s 3ms/step - loss: 0.1157 - accuracy: 0.9563 - val_loss: 0.3434 - val_accuracy: 0.8948\n",
      "Epoch 29/50\n",
      "1719/1719 [==============================] - 5s 3ms/step - loss: 0.1115 - accuracy: 0.9585 - val_loss: 0.3497 - val_accuracy: 0.8970\n",
      "Epoch 30/50\n",
      "1719/1719 [==============================] - 5s 3ms/step - loss: 0.1066 - accuracy: 0.9609 - val_loss: 0.3603 - val_accuracy: 0.8930\n",
      "Epoch 31/50\n",
      "1719/1719 [==============================] - 5s 3ms/step - loss: 0.1032 - accuracy: 0.9613 - val_loss: 0.3556 - val_accuracy: 0.8972\n",
      "Epoch 32/50\n",
      "1719/1719 [==============================] - 5s 3ms/step - loss: 0.1002 - accuracy: 0.9631 - val_loss: 0.3659 - val_accuracy: 0.8950\n",
      "Epoch 33/50\n",
      "1719/1719 [==============================] - 5s 3ms/step - loss: 0.0967 - accuracy: 0.9642 - val_loss: 0.3722 - val_accuracy: 0.8970\n",
      "Epoch 34/50\n",
      "1719/1719 [==============================] - 5s 3ms/step - loss: 0.0927 - accuracy: 0.9653 - val_loss: 0.3589 - val_accuracy: 0.9006\n",
      "Epoch 35/50\n",
      "1719/1719 [==============================] - 5s 3ms/step - loss: 0.0906 - accuracy: 0.9670 - val_loss: 0.3933 - val_accuracy: 0.8936\n",
      "Epoch 36/50\n",
      "1719/1719 [==============================] - 5s 3ms/step - loss: 0.0883 - accuracy: 0.9676 - val_loss: 0.3727 - val_accuracy: 0.8930\n",
      "Epoch 37/50\n",
      "1719/1719 [==============================] - 5s 3ms/step - loss: 0.0827 - accuracy: 0.9686 - val_loss: 0.3730 - val_accuracy: 0.8984\n",
      "Epoch 38/50\n",
      "1719/1719 [==============================] - 5s 3ms/step - loss: 0.0814 - accuracy: 0.9697 - val_loss: 0.3908 - val_accuracy: 0.8988\n",
      "Epoch 39/50\n",
      "1719/1719 [==============================] - 5s 3ms/step - loss: 0.0792 - accuracy: 0.9702 - val_loss: 0.3878 - val_accuracy: 0.8980\n",
      "Epoch 40/50\n",
      "1719/1719 [==============================] - 5s 3ms/step - loss: 0.0744 - accuracy: 0.9724 - val_loss: 0.4159 - val_accuracy: 0.9004\n",
      "Epoch 41/50\n",
      "1719/1719 [==============================] - 4s 3ms/step - loss: 0.0733 - accuracy: 0.9718 - val_loss: 0.3994 - val_accuracy: 0.8956\n",
      "Epoch 42/50\n",
      "1719/1719 [==============================] - 5s 3ms/step - loss: 0.0704 - accuracy: 0.9736 - val_loss: 0.4233 - val_accuracy: 0.8922\n",
      "Epoch 43/50\n",
      "1719/1719 [==============================] - 5s 3ms/step - loss: 0.0683 - accuracy: 0.9749 - val_loss: 0.4644 - val_accuracy: 0.8894\n",
      "Epoch 44/50\n",
      "1719/1719 [==============================] - 5s 3ms/step - loss: 0.0671 - accuracy: 0.9748 - val_loss: 0.4332 - val_accuracy: 0.8972\n",
      "Epoch 45/50\n",
      "1719/1719 [==============================] - 5s 3ms/step - loss: 0.0632 - accuracy: 0.9768 - val_loss: 0.4378 - val_accuracy: 0.8980\n",
      "Epoch 46/50\n",
      "1719/1719 [==============================] - 5s 3ms/step - loss: 0.0634 - accuracy: 0.9765 - val_loss: 0.4560 - val_accuracy: 0.8930\n",
      "Epoch 47/50\n",
      "1719/1719 [==============================] - 5s 3ms/step - loss: 0.0597 - accuracy: 0.9776 - val_loss: 0.4393 - val_accuracy: 0.8960\n",
      "Epoch 48/50\n",
      "1719/1719 [==============================] - 5s 3ms/step - loss: 0.0589 - accuracy: 0.9782 - val_loss: 0.4739 - val_accuracy: 0.8946\n",
      "Epoch 49/50\n",
      "1719/1719 [==============================] - 5s 3ms/step - loss: 0.0593 - accuracy: 0.9779 - val_loss: 0.4727 - val_accuracy: 0.8944\n",
      "Epoch 50/50\n",
      "1719/1719 [==============================] - 5s 3ms/step - loss: 0.0553 - accuracy: 0.9791 - val_loss: 0.5074 - val_accuracy: 0.8940\n"
     ]
    }
   ],
   "source": [
    "model.compile(optimizer='adam',\n",
    "              loss=tf.keras.losses.SparseCategoricalCrossentropy(from_logits=True),\n",
    "              metrics=['accuracy'])\n",
    "\n",
    "\n",
    "# history = model.fit(X_train, y_train, epochs=30, validation_data=(X_valid, y_valid))\n",
    "\n",
    "# model.fit(train_images, train_labels, epochs=10)\n",
    "# history = model.fit(X_train_full, y_train_full, epochs=30)\n",
    "history = model.fit(X_train, y_train, validation_data= (X_valid, y_valid), batch_size=32, epochs=50)"
   ]
  },
  {
   "cell_type": "code",
   "execution_count": 15,
   "metadata": {},
   "outputs": [],
   "source": [
    "hidden1 = model.layers[1]\n",
    "hidden1.name\n",
    "\n",
    "weights, biases = hidden1.get_weights()"
   ]
  },
  {
   "cell_type": "code",
   "execution_count": 16,
   "metadata": {},
   "outputs": [
    {
     "data": {
      "text/plain": [
       "array([[-0.11801077, -0.26368985,  0.59442574, ..., -0.4402501 ,\n",
       "         0.906283  ,  0.15998599],\n",
       "       [-0.00908275,  0.54197085,  1.1663964 , ..., -0.48894095,\n",
       "         0.60477865, -0.94414103],\n",
       "       [-0.9034054 ,  0.4032211 ,  0.63155484, ..., -0.03091092,\n",
       "        -0.73170936, -1.6220189 ],\n",
       "       ...,\n",
       "       [-0.994611  , -0.51997536,  0.14252907, ..., -0.8778588 ,\n",
       "        -2.646082  , -0.3286484 ],\n",
       "       [-0.50754267, -0.62113   , -0.33140248, ..., -0.1948068 ,\n",
       "        -1.6803626 , -0.08776715],\n",
       "       [ 0.45472506,  0.8108249 ,  0.28695017, ..., -0.6235785 ,\n",
       "        -1.077119  ,  0.28148347]], dtype=float32)"
      ]
     },
     "execution_count": 16,
     "metadata": {},
     "output_type": "execute_result"
    }
   ],
   "source": [
    "weights"
   ]
  },
  {
   "cell_type": "code",
   "execution_count": 17,
   "metadata": {},
   "outputs": [
    {
     "name": "stdout",
     "output_type": "stream",
     "text": [
      "(784, 300)\n"
     ]
    }
   ],
   "source": [
    "print(weights.shape)"
   ]
  },
  {
   "cell_type": "code",
   "execution_count": 18,
   "metadata": {},
   "outputs": [
    {
     "data": {
      "text/plain": [
       "array([-0.02169702,  0.3037201 ,  0.7061654 ,  0.22245285,  0.1312781 ,\n",
       "        0.06189788, -0.3744362 ,  0.46789715,  0.3560416 ,  0.09175451,\n",
       "        0.12065644, -0.10741568,  0.48746756, -0.8519424 , -0.2875056 ,\n",
       "        0.06482007, -0.25078154,  0.21489024, -0.3927753 ,  0.33356085,\n",
       "       -0.09125956, -0.06133928,  0.22186336, -0.11569786, -0.38934067,\n",
       "        0.11681705,  0.2695005 ,  0.26238936,  0.0090266 ,  0.20862414,\n",
       "       -0.29886064,  0.0861413 ,  0.06968261,  0.27828178, -0.0184404 ,\n",
       "        0.18592565, -0.17978747,  0.31194267,  0.05731108,  0.22425897,\n",
       "       -0.21888214,  0.03037385,  0.31986293,  0.20496126, -0.4959161 ,\n",
       "       -0.17625882,  0.05492507, -0.15855274, -0.16116735, -0.2155597 ,\n",
       "       -0.25141886,  0.29832947,  0.34315923, -0.08218858, -0.5193699 ,\n",
       "        0.13760097,  0.08434943, -0.17262575,  0.10019565, -0.7344608 ,\n",
       "       -0.15111597,  0.11615569,  0.08930999, -0.21827349,  0.27136672,\n",
       "       -0.07059918, -0.24881943,  0.51772416,  0.05331222, -0.5873093 ,\n",
       "        0.35363552, -0.06343703, -0.36475503, -0.26167524, -0.01904196,\n",
       "        0.3452107 ,  0.03509241, -0.6087897 ,  0.00394401,  0.1363105 ,\n",
       "       -0.02195515,  0.14050259,  0.00911459, -0.24650872,  0.17489465,\n",
       "       -0.4152356 ,  0.43611974,  0.0322201 ,  0.4715405 , -0.38330147,\n",
       "       -0.37258503,  0.07213125, -0.22597508, -0.40295842, -0.38901466,\n",
       "        0.10501587,  0.09392615, -0.16195235, -0.20463239, -0.03149139,\n",
       "        0.17146184, -0.3142589 , -0.30546904, -0.3079821 ,  0.59369445,\n",
       "        0.6988677 ,  0.13008258, -0.45862645,  0.03611179, -0.01288429,\n",
       "       -0.6707276 , -0.27495205,  0.2332402 ,  0.26761705, -0.27939022,\n",
       "        0.15449014,  0.00733896,  0.24458134, -0.5262081 ,  0.15387182,\n",
       "       -0.1135917 , -0.27437064, -0.13092819, -0.49116156,  0.05469921,\n",
       "        0.187289  ,  0.0643327 , -0.10292064,  0.4879634 , -0.17475747,\n",
       "       -0.02598154,  0.31406057,  0.2793092 ,  0.1382322 ,  0.15593277,\n",
       "        0.01398166,  0.6455613 , -0.12175579, -0.51186556,  0.6168629 ,\n",
       "       -0.22465932,  0.30911803,  0.16532351,  0.2287168 , -0.43813518,\n",
       "       -0.16394673, -0.6262613 ,  0.13119452,  0.42167613, -0.3429241 ,\n",
       "       -0.5270543 ,  0.16901463, -0.08062648,  0.09095778,  0.44380477,\n",
       "       -0.3226481 ,  0.451131  ,  0.27552637,  0.13221589, -0.42066813,\n",
       "       -0.28225723,  0.29754665,  0.06615348, -0.4636125 , -0.3125453 ,\n",
       "       -0.38950735, -0.33056423, -0.23957527,  0.21991915, -0.10507327,\n",
       "        0.19105767, -0.15707521, -0.07598253, -0.06524221,  0.32679242,\n",
       "       -0.5420592 ,  0.1473911 , -0.06175425, -0.45180282,  0.27363297,\n",
       "       -0.15753177,  0.2074459 , -0.16892198, -0.38942924,  0.10916819,\n",
       "       -0.24384141,  0.31704387, -0.06689167, -0.04250905,  0.26336145,\n",
       "       -0.2678619 ,  0.21298575, -0.615456  ,  0.02696788,  0.18365899,\n",
       "       -0.38567087,  0.20956549, -0.31426466, -0.37313506,  0.09113303,\n",
       "        0.76992977, -0.19236945, -0.04894635, -0.31492034,  0.18470109,\n",
       "        0.12548792,  0.28318676, -0.20475781, -0.33826256,  0.35467276,\n",
       "        0.18456025, -0.4077477 , -0.0945847 , -0.1528251 , -0.33025593,\n",
       "       -0.11513754, -0.08442662, -0.09419917, -0.06181105,  0.16758253,\n",
       "        0.66437554,  0.49556234, -0.6077333 , -0.3873546 ,  0.24904656,\n",
       "        0.29174194, -0.36780566, -0.3492661 ,  0.29079655, -0.2286663 ,\n",
       "       -0.0577417 , -0.29457694,  0.33610746,  0.18365192,  0.69911957,\n",
       "       -0.3901762 ,  0.07411949,  0.36165968, -0.37236798,  0.05030434,\n",
       "       -0.16548172, -0.27124855,  0.04774814,  0.15971245, -0.13344437,\n",
       "        0.5686051 , -0.31649074, -0.21967478,  0.09825611, -0.11534337,\n",
       "        0.05301026,  0.41324157, -0.45670483, -0.2341015 ,  0.266113  ,\n",
       "        0.18280204,  0.10801841, -0.4586528 , -0.6332901 , -0.45239294,\n",
       "       -0.8051608 ,  0.44728634, -0.366351  , -0.03615347, -0.01763073,\n",
       "       -0.20733865,  0.46331978,  0.62106746,  0.4817761 ,  0.5272976 ,\n",
       "        0.4145616 ,  0.27233037,  0.3975567 , -0.03261549, -0.39460507,\n",
       "        0.01817224,  0.4216435 ,  0.22088225, -0.18081899,  0.0039925 ,\n",
       "        0.3038044 ,  0.1571241 , -0.21473087,  0.3071038 ,  0.42669806,\n",
       "        0.17363337, -0.21934325,  0.51769507,  0.08543511, -0.8171019 ,\n",
       "       -0.46978787, -0.16680406,  0.05802194, -0.12828141, -0.07340854,\n",
       "        0.10982501,  0.26111913,  0.2833561 , -0.43727693,  0.28305614],\n",
       "      dtype=float32)"
      ]
     },
     "execution_count": 18,
     "metadata": {},
     "output_type": "execute_result"
    }
   ],
   "source": [
    "biases"
   ]
  },
  {
   "cell_type": "code",
   "execution_count": 19,
   "metadata": {},
   "outputs": [],
   "source": [
    "model.compile(loss=\"sparse_categorical_crossentropy\",\n",
    "              optimizer=\"sgd\",\n",
    "              metrics=[\"accuracy\"])"
   ]
  },
  {
   "cell_type": "markdown",
   "metadata": {},
   "source": [
    "Mozna też uzyć w tej formie:\n",
    "\n",
    "```python\n",
    "model.compile(loss=keras.losses.sparse_categorical_crossentropy,\n",
    "              optimizer=keras.optimizers.SGD(),\n",
    "              metrics=[keras.metrics.sparse_categorical_accuracy])\n",
    "```"
   ]
  },
  {
   "cell_type": "code",
   "execution_count": null,
   "metadata": {},
   "outputs": [],
   "source": []
  },
  {
   "cell_type": "code",
   "execution_count": 235,
   "metadata": {},
   "outputs": [],
   "source": [
    "# history.params"
   ]
  },
  {
   "cell_type": "code",
   "execution_count": 236,
   "metadata": {},
   "outputs": [],
   "source": [
    "# print(history.epoch)"
   ]
  },
  {
   "cell_type": "code",
   "execution_count": 20,
   "metadata": {},
   "outputs": [
    {
     "data": {
      "text/plain": [
       "dict_keys(['loss', 'accuracy', 'val_loss', 'val_accuracy'])"
      ]
     },
     "execution_count": 20,
     "metadata": {},
     "output_type": "execute_result"
    }
   ],
   "source": [
    "history.history.keys()"
   ]
  },
  {
   "cell_type": "code",
   "execution_count": 21,
   "metadata": {},
   "outputs": [
    {
     "data": {
      "image/png": "[encoded data removed]",
      "text/plain": [
       "<Figure size 576x360 with 1 Axes>"
      ]
     },
     "metadata": {
      "needs_background": "light"
     },
     "output_type": "display_data"
    }
   ],
   "source": [
    "import pandas as pd\n",
    "\n",
    "pd.DataFrame(history.history).plot(figsize=(8, 5))\n",
    "plt.grid(True)\n",
    "plt.gca().set_ylim(0, 1)\n",
    "plt.show()"
   ]
  },
  {
   "cell_type": "code",
   "execution_count": 239,
   "metadata": {},
   "outputs": [],
   "source": [
    "# model.evaluate(X_test, y_test)"
   ]
  },
  {
   "cell_type": "code",
   "execution_count": 22,
   "metadata": {},
   "outputs": [
    {
     "data": {
      "text/plain": [
       "array([[0.  , 0.  , 0.  , 0.  , 0.  , 0.  , 0.  , 0.99, 0.  , 1.  ],\n",
       "       [0.67, 0.  , 1.  , 0.  , 0.54, 0.  , 0.01, 0.  , 0.  , 0.  ],\n",
       "       [0.  , 1.  , 0.  , 0.04, 0.  , 0.  , 0.  , 0.  , 0.  , 0.  ]],\n",
       "      dtype=float32)"
      ]
     },
     "execution_count": 22,
     "metadata": {},
     "output_type": "execute_result"
    }
   ],
   "source": [
    "X_new = X_test[:3]\n",
    "y_proba = model.predict(X_new)\n",
    "y_proba.round(2)"
   ]
  },
  {
   "cell_type": "code",
   "execution_count": 27,
   "metadata": {},
   "outputs": [
    {
     "ename": "AttributeError",
     "evalue": "'Sequential' object has no attribute 'predict_classes'",
     "output_type": "error",
     "traceback": [
      "\u001b[0;31m---------------------------------------------------------------------------\u001b[0m",
      "\u001b[0;31mAttributeError\u001b[0m                            Traceback (most recent call last)",
      "\u001b[0;32m<ipython-input-27-81ace37e545f>\u001b[0m in \u001b[0;36m<module>\u001b[0;34m\u001b[0m\n\u001b[0;32m----> 1\u001b[0;31m \u001b[0my_pred\u001b[0m \u001b[0;34m=\u001b[0m \u001b[0mmodel\u001b[0m\u001b[0;34m.\u001b[0m\u001b[0mpredict_classes\u001b[0m\u001b[0;34m(\u001b[0m\u001b[0mX_new\u001b[0m\u001b[0;34m)\u001b[0m\u001b[0;34m\u001b[0m\u001b[0;34m\u001b[0m\u001b[0m\n\u001b[0m\u001b[1;32m      2\u001b[0m \u001b[0my_pred\u001b[0m\u001b[0;34m\u001b[0m\u001b[0;34m\u001b[0m\u001b[0m\n",
      "\u001b[0;31mAttributeError\u001b[0m: 'Sequential' object has no attribute 'predict_classes'"
     ]
    }
   ],
   "source": [
    "y_pred = model.predict_classes(X_new)\n",
    "y_pred"
   ]
  },
  {
   "cell_type": "code",
   "execution_count": 24,
   "metadata": {},
   "outputs": [
    {
     "ename": "NameError",
     "evalue": "name 'y_pred' is not defined",
     "output_type": "error",
     "traceback": [
      "\u001b[0;31m---------------------------------------------------------------------------\u001b[0m",
      "\u001b[0;31mNameError\u001b[0m                                 Traceback (most recent call last)",
      "\u001b[0;32m<ipython-input-24-904b664f1c60>\u001b[0m in \u001b[0;36m<module>\u001b[0;34m\u001b[0m\n\u001b[0;32m----> 1\u001b[0;31m \u001b[0mnp\u001b[0m\u001b[0;34m.\u001b[0m\u001b[0marray\u001b[0m\u001b[0;34m(\u001b[0m\u001b[0mclass_names\u001b[0m\u001b[0;34m)\u001b[0m\u001b[0;34m[\u001b[0m\u001b[0my_pred\u001b[0m\u001b[0;34m]\u001b[0m\u001b[0;34m\u001b[0m\u001b[0;34m\u001b[0m\u001b[0m\n\u001b[0m",
      "\u001b[0;31mNameError\u001b[0m: name 'y_pred' is not defined"
     ]
    }
   ],
   "source": [
    "np.array(class_names)[y_pred]"
   ]
  },
  {
   "cell_type": "code",
   "execution_count": 25,
   "metadata": {},
   "outputs": [
    {
     "data": {
      "image/png": "[encoded data removed]",
      "text/plain": [
       "<Figure size 518.4x172.8 with 3 Axes>"
      ]
     },
     "metadata": {
      "needs_background": "light"
     },
     "output_type": "display_data"
    }
   ],
   "source": [
    "plt.figure(figsize=(7.2, 2.4))\n",
    "for index, image in enumerate(X_new):\n",
    "    plt.subplot(1, 3, index + 1)\n",
    "    plt.imshow(image, cmap=\"binary\", interpolation=\"nearest\")\n",
    "    plt.axis('off')\n",
    "    plt.title(class_names[y_test[index]], fontsize=12)\n",
    "plt.subplots_adjust(wspace=0.2, hspace=0.5)\n",
    "plt.show()"
   ]
  },
  {
   "cell_type": "code",
   "execution_count": null,
   "metadata": {},
   "outputs": [],
   "source": []
  }
 ],
 "metadata": {
  "kernelspec": {
   "display_name": "Python 3",
   "language": "python",
   "name": "python3"
  },
  "language_info": {
   "codemirror_mode": {
    "name": "ipython",
    "version": 3
   },
   "file_extension": ".py",
   "mimetype": "text/x-python",
   "name": "python",
   "nbconvert_exporter": "python",
   "pygments_lexer": "ipython3",
   "version": "3.8.8"
  }
 },
 "nbformat": 4,
 "nbformat_minor": 4
}
