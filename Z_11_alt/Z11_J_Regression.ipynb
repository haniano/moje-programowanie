{
 "cells": [
  {
   "cell_type": "code",
   "execution_count": 12,
   "metadata": {},
   "outputs": [
    {
     "name": "stdout",
     "output_type": "stream",
     "text": [
      "2.3.0\n",
      "2.4.0\n"
     ]
    }
   ],
   "source": [
    "import tensorflow as tf\n",
    "from tensorflow import keras\n",
    "print(tf.__version__)\n",
    "\n",
    "print(keras.__version__)"
   ]
  },
  {
   "cell_type": "code",
   "execution_count": 13,
   "metadata": {},
   "outputs": [],
   "source": [
    "import numpy as np\n",
    "import pandas as pd\n",
    "import matplotlib.pyplot as plt\n",
    "import os"
   ]
  },
  {
   "cell_type": "code",
   "execution_count": 14,
   "metadata": {},
   "outputs": [],
   "source": [
    "from sklearn.datasets import fetch_california_housing\n",
    "from sklearn.model_selection import train_test_split\n",
    "from sklearn.preprocessing import StandardScaler\n",
    "\n",
    "housing = fetch_california_housing()\n",
    "\n",
    "X_train_full, X_test, y_train_full, y_test = train_test_split(housing.data, housing.target, random_state=42)\n",
    "X_train, X_valid, y_train, y_valid = train_test_split(X_train_full, y_train_full, random_state=42)\n",
    "\n"
   ]
  },
  {
   "cell_type": "code",
   "execution_count": 15,
   "metadata": {},
   "outputs": [],
   "source": [
    "np.random.seed(42)\n",
    "tf.random.set_seed(42)"
   ]
  },
  {
   "cell_type": "code",
   "execution_count": 16,
   "metadata": {},
   "outputs": [
    {
     "name": "stdout",
     "output_type": "stream",
     "text": [
      "Epoch 1/20\n",
      "363/363 [==============================] - 0s 955us/step - loss: 22974149433491456.0000 - val_loss: 14617883443200.0000\n",
      "Epoch 2/20\n",
      "363/363 [==============================] - 0s 691us/step - loss: 7723970199552.0000 - val_loss: 3417093963776.0000\n",
      "Epoch 3/20\n",
      "363/363 [==============================] - 0s 596us/step - loss: 1805568049152.0000 - val_loss: 798785339392.0000\n",
      "Epoch 4/20\n",
      "363/363 [==============================] - 0s 621us/step - loss: 422071828480.0000 - val_loss: 186725318656.0000\n",
      "Epoch 5/20\n",
      "363/363 [==============================] - 0s 700us/step - loss: 98664218624.0000 - val_loss: 43649114112.0000\n",
      "Epoch 6/20\n",
      "363/363 [==============================] - 0s 653us/step - loss: 23063846912.0000 - val_loss: 10203475968.0000\n",
      "Epoch 7/20\n",
      "363/363 [==============================] - 0s 706us/step - loss: 5391437312.0000 - val_loss: 2385182720.0000\n",
      "Epoch 8/20\n",
      "363/363 [==============================] - 0s 638us/step - loss: 1260309632.0000 - val_loss: 557565056.0000\n",
      "Epoch 9/20\n",
      "363/363 [==============================] - 0s 686us/step - loss: 294612000.0000 - val_loss: 130337808.0000\n",
      "Epoch 10/20\n",
      "363/363 [==============================] - 0s 955us/step - loss: 68868872.0000 - val_loss: 30468182.0000\n",
      "Epoch 11/20\n",
      "363/363 [==============================] - 0s 805us/step - loss: 16098886.0000 - val_loss: 7122408.0000\n",
      "Epoch 12/20\n",
      "363/363 [==============================] - 0s 800us/step - loss: 3763294.0000 - val_loss: 1665006.2500\n",
      "Epoch 13/20\n",
      "363/363 [==============================] - 1s 1ms/step - loss: 879712.9375 - val_loss: 389246.1250\n",
      "Epoch 14/20\n",
      "363/363 [==============================] - ETA: 0s - loss: 212370.78 - 0s 776us/step - loss: 205644.4062 - val_loss: 91006.7266\n",
      "Epoch 15/20\n",
      "363/363 [==============================] - 0s 662us/step - loss: 48073.1602 - val_loss: 21282.1270\n",
      "Epoch 16/20\n",
      "363/363 [==============================] - 0s 775us/step - loss: 11238.7031 - val_loss: 4979.3115\n",
      "Epoch 17/20\n",
      "363/363 [==============================] - 0s 940us/step - loss: 2628.1484 - val_loss: 1166.6659\n",
      "Epoch 18/20\n",
      "363/363 [==============================] - 0s 730us/step - loss: 615.3716 - val_loss: 274.4792\n",
      "Epoch 19/20\n",
      "363/363 [==============================] - 0s 778us/step - loss: 144.8725 - val_loss: 65.5832\n",
      "Epoch 20/20\n",
      "363/363 [==============================] - 0s 744us/step - loss: 34.9049 - val_loss: 16.5316\n",
      "162/162 [==============================] - 0s 480us/step - loss: 16.3210\n"
     ]
    }
   ],
   "source": [
    "model = keras.models.Sequential([\n",
    "    keras.layers.Dense(30, activation=\"relu\", input_shape=X_train.shape[1:]),\n",
    "    keras.layers.Dense(1)\n",
    "])\n",
    "model.compile(loss=\"mean_squared_error\", optimizer=keras.optimizers.SGD(lr=1e-3))\n",
    "history = model.fit(X_train, y_train, epochs=20, validation_data=(X_valid, y_valid))\n",
    "mse_test = model.evaluate(X_test, y_test)\n",
    "X_new = X_test[:3]\n",
    "y_pred = model.predict(X_new)"
   ]
  },
  {
   "cell_type": "code",
   "execution_count": 17,
   "metadata": {},
   "outputs": [
    {
     "data": {
      "image/png": "[encoded data removed]",
      "text/plain": [
       "<Figure size 432x288 with 1 Axes>"
      ]
     },
     "metadata": {
      "needs_background": "light"
     },
     "output_type": "display_data"
    }
   ],
   "source": [
    "plt.plot(pd.DataFrame(history.history))\n",
    "plt.grid(True)\n",
    "plt.show()"
   ]
  },
  {
   "cell_type": "markdown",
   "metadata": {},
   "source": [
    "# Zad\n",
    "\n",
    "Porównaj powyższy wynik z nauką na danych znormalizowanych."
   ]
  },
  {
   "cell_type": "code",
   "execution_count": 20,
   "metadata": {},
   "outputs": [
    {
     "name": "stdout",
     "output_type": "stream",
     "text": [
      "Epoch 1/20\n",
      "363/363 [==============================] - 0s 1ms/step - loss: 1.9197 - val_loss: 0.9539\n",
      "Epoch 2/20\n",
      "363/363 [==============================] - 0s 871us/step - loss: 0.8247 - val_loss: 0.7240\n",
      "Epoch 3/20\n",
      "363/363 [==============================] - 0s 843us/step - loss: 0.6937 - val_loss: 0.6534\n",
      "Epoch 4/20\n",
      "363/363 [==============================] - 0s 822us/step - loss: 0.6350 - val_loss: 0.6094\n",
      "Epoch 5/20\n",
      "363/363 [==============================] - 0s 708us/step - loss: 0.5964 - val_loss: 0.5762\n",
      "Epoch 6/20\n",
      "363/363 [==============================] - 0s 593us/step - loss: 0.5664 - val_loss: 0.5485\n",
      "Epoch 7/20\n",
      "363/363 [==============================] - 0s 650us/step - loss: 0.5420 - val_loss: 0.5293\n",
      "Epoch 8/20\n",
      "363/363 [==============================] - 0s 718us/step - loss: 0.5221 - val_loss: 0.5094\n",
      "Epoch 9/20\n",
      "363/363 [==============================] - 0s 679us/step - loss: 0.5047 - val_loss: 0.4931\n",
      "Epoch 10/20\n",
      "363/363 [==============================] - 0s 676us/step - loss: 0.4902 - val_loss: 0.4821\n",
      "Epoch 11/20\n",
      "363/363 [==============================] - 0s 725us/step - loss: 0.4784 - val_loss: 0.4720\n",
      "Epoch 12/20\n",
      "363/363 [==============================] - 0s 747us/step - loss: 0.4680 - val_loss: 0.4609\n",
      "Epoch 13/20\n",
      "363/363 [==============================] - 0s 717us/step - loss: 0.4593 - val_loss: 0.4531\n",
      "Epoch 14/20\n",
      "363/363 [==============================] - 0s 563us/step - loss: 0.4518 - val_loss: 0.4480\n",
      "Epoch 15/20\n",
      "363/363 [==============================] - 0s 644us/step - loss: 0.4453 - val_loss: 0.4422\n",
      "Epoch 16/20\n",
      "363/363 [==============================] - 0s 687us/step - loss: 0.4397 - val_loss: 0.4375\n",
      "Epoch 17/20\n",
      "363/363 [==============================] - 0s 676us/step - loss: 0.4352 - val_loss: 0.4314\n",
      "Epoch 18/20\n",
      "363/363 [==============================] - 0s 692us/step - loss: 0.4313 - val_loss: 0.4290\n",
      "Epoch 19/20\n",
      "363/363 [==============================] - 0s 689us/step - loss: 0.4271 - val_loss: 0.4237\n",
      "Epoch 20/20\n",
      "363/363 [==============================] - 0s 736us/step - loss: 0.4246 - val_loss: 0.4232\n",
      "162/162 [==============================] - 0s 443us/step - loss: 0.4232\n"
     ]
    },
    {
     "data": {
      "text/plain": [
       "0.42322519421577454"
      ]
     },
     "execution_count": 20,
     "metadata": {},
     "output_type": "execute_result"
    }
   ],
   "source": [
    "from sklearn.preprocessing import StandardScaler\n",
    "\n",
    "scaler = StandardScaler()\n",
    "X_train_scaled = scaler.fit_transform(X_train)\n",
    "X_test_scaled = scaler.transform(X_test)\n",
    "\n",
    "model = keras.models.Sequential([\n",
    "    keras.layers.Dense(30, activation=\"relu\", input_shape=X_train.shape[1:]),\n",
    "    keras.layers.Dense(1)\n",
    "])\n",
    "model.compile(loss=\"mean_squared_error\", optimizer=keras.optimizers.SGD(lr=1e-3))\n",
    "\n",
    "history2 = model.fit(X_train_scaled, y_train, validation_data= (X_test_scaled, y_test), epochs=20)\n",
    "model.evaluate(X_test_scaled, y_test)\n"
   ]
  },
  {
   "cell_type": "code",
   "execution_count": 21,
   "metadata": {},
   "outputs": [
    {
     "data": {
      "image/png": "[encoded data removed]",
      "text/plain": [
       "<Figure size 432x288 with 1 Axes>"
      ]
     },
     "metadata": {
      "needs_background": "light"
     },
     "output_type": "display_data"
    }
   ],
   "source": [
    "plt.plot(pd.DataFrame(history.history), label='normal')\n",
    "plt.plot(pd.DataFrame(history2.history), label='scaled')\n",
    "# plt.plot(pd.DataFrame(history.history['accuracy']), label='normal')\n",
    "# plt.plot(pd.DataFrame(history2.history['accuracy']), label='scaled')\n",
    "plt.legend()\n",
    "plt.grid(True)\n",
    "plt.show()"
   ]
  },
  {
   "cell_type": "markdown",
   "metadata": {},
   "source": [
    "# Dane zawsze muszą być przeskalowane"
   ]
  },
  {
   "cell_type": "code",
   "execution_count": null,
   "metadata": {},
   "outputs": [],
   "source": []
  }
 ],
 "metadata": {
  "kernelspec": {
   "display_name": "Python 3",
   "language": "python",
   "name": "python3"
  },
  "language_info": {
   "codemirror_mode": {
    "name": "ipython",
    "version": 3
   },
   "file_extension": ".py",
   "mimetype": "text/x-python",
   "name": "python",
   "nbconvert_exporter": "python",
   "pygments_lexer": "ipython3",
   "version": "3.8.10"
  }
 },
 "nbformat": 4,
 "nbformat_minor": 4
}
