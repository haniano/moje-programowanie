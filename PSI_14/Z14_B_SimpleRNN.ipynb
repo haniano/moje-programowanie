{
 "cells": [
  {
   "cell_type": "code",
   "execution_count": 1,
   "metadata": {},
   "outputs": [
    {
     "name": "stderr",
     "output_type": "stream",
     "text": [
      "2022-06-09 12:38:51.165641: W tensorflow/stream_executor/platform/default/dso_loader.cc:64] Could not load dynamic library 'libcudart.so.11.0'; dlerror: libcudart.so.11.0: cannot open shared object file: No such file or directory\n",
      "2022-06-09 12:38:51.165723: I tensorflow/stream_executor/cuda/cudart_stub.cc:29] Ignore above cudart dlerror if you do not have a GPU set up on your machine.\n"
     ]
    },
    {
     "name": "stdout",
     "output_type": "stream",
     "text": [
      "2.9.1\n",
      "2.9.0\n"
     ]
    }
   ],
   "source": [
    "import tensorflow as tf\n",
    "from tensorflow import keras as keras\n",
    "print(tf.__version__)\n",
    "\n",
    "print(keras.__version__)"
   ]
  },
  {
   "cell_type": "code",
   "execution_count": 2,
   "metadata": {},
   "outputs": [],
   "source": [
    "import numpy as np\n",
    "import pandas as pd\n",
    "import matplotlib.pyplot as plt\n",
    "import os"
   ]
  },
  {
   "cell_type": "code",
   "execution_count": 3,
   "metadata": {},
   "outputs": [
    {
     "name": "stdout",
     "output_type": "stream",
     "text": [
      "Downloading data from https://storage.googleapis.com/tensorflow/tf-keras-datasets/imdb.npz\n",
      "17464789/17464789 [==============================] - 49s 3us/step\n",
      "25000 train sequences\n",
      "25000 test sequences\n",
      "[list([1, 14, 22, 16, 43, 530, 973, 1622, 1385, 65, 458, 4468, 66, 3941, 4, 173, 36, 256, 5, 25, 100, 43, 838, 112, 50, 670, 2, 9, 35, 480, 284, 5, 150, 4, 172, 112, 167, 2, 336, 385, 39, 4, 172, 4536, 1111, 17, 546, 38, 13, 447, 4, 192, 50, 16, 6, 147, 2025, 19, 14, 22, 4, 1920, 4613, 469, 4, 22, 71, 87, 12, 16, 43, 530, 38, 76, 15, 13, 1247, 4, 22, 17, 515, 17, 12, 16, 626, 18, 2, 5, 62, 386, 12, 8, 316, 8, 106, 5, 4, 2223, 2, 16, 480, 66, 3785, 33, 4, 130, 12, 16, 38, 619, 5, 25, 124, 51, 36, 135, 48, 25, 1415, 33, 6, 22, 12, 215, 28, 77, 52, 5, 14, 407, 16, 82, 2, 8, 4, 107, 117, 2, 15, 256, 4, 2, 7, 3766, 5, 723, 36, 71, 43, 530, 476, 26, 400, 317, 46, 7, 4, 2, 1029, 13, 104, 88, 4, 381, 15, 297, 98, 32, 2071, 56, 26, 141, 6, 194, 2, 18, 4, 226, 22, 21, 134, 476, 26, 480, 5, 144, 30, 2, 18, 51, 36, 28, 224, 92, 25, 104, 4, 226, 65, 16, 38, 1334, 88, 12, 16, 283, 5, 16, 4472, 113, 103, 32, 15, 16, 2, 19, 178, 32])\n",
      " list([1, 194, 1153, 194, 2, 78, 228, 5, 6, 1463, 4369, 2, 134, 26, 4, 715, 8, 118, 1634, 14, 394, 20, 13, 119, 954, 189, 102, 5, 207, 110, 3103, 21, 14, 69, 188, 8, 30, 23, 7, 4, 249, 126, 93, 4, 114, 9, 2300, 1523, 5, 647, 4, 116, 9, 35, 2, 4, 229, 9, 340, 1322, 4, 118, 9, 4, 130, 4901, 19, 4, 1002, 5, 89, 29, 952, 46, 37, 4, 455, 9, 45, 43, 38, 1543, 1905, 398, 4, 1649, 26, 2, 5, 163, 11, 3215, 2, 4, 1153, 9, 194, 775, 7, 2, 2, 349, 2637, 148, 605, 2, 2, 15, 123, 125, 68, 2, 2, 15, 349, 165, 4362, 98, 5, 4, 228, 9, 43, 2, 1157, 15, 299, 120, 5, 120, 174, 11, 220, 175, 136, 50, 9, 4373, 228, 2, 5, 2, 656, 245, 2350, 5, 4, 2, 131, 152, 491, 18, 2, 32, 2, 1212, 14, 9, 6, 371, 78, 22, 625, 64, 1382, 9, 8, 168, 145, 23, 4, 1690, 15, 16, 4, 1355, 5, 28, 6, 52, 154, 462, 33, 89, 78, 285, 16, 145, 95])\n",
      " list([1, 14, 47, 8, 30, 31, 7, 4, 249, 108, 7, 4, 2, 54, 61, 369, 13, 71, 149, 14, 22, 112, 4, 2401, 311, 12, 16, 3711, 33, 75, 43, 1829, 296, 4, 86, 320, 35, 534, 19, 263, 4821, 1301, 4, 1873, 33, 89, 78, 12, 66, 16, 4, 360, 7, 4, 58, 316, 334, 11, 4, 1716, 43, 645, 662, 8, 257, 85, 1200, 42, 1228, 2578, 83, 68, 3912, 15, 36, 165, 1539, 278, 36, 69, 2, 780, 8, 106, 14, 2, 1338, 18, 6, 22, 12, 215, 28, 610, 40, 6, 87, 326, 23, 2300, 21, 23, 22, 12, 272, 40, 57, 31, 11, 4, 22, 47, 6, 2307, 51, 9, 170, 23, 595, 116, 595, 1352, 13, 191, 79, 638, 89, 2, 14, 9, 8, 106, 607, 624, 35, 534, 6, 227, 7, 129, 113])]\n"
     ]
    }
   ],
   "source": [
    "max_features = 5000\n",
    "(x_train, y_train), (x_test, y_test) = tf.keras.datasets.imdb.load_data(num_words=max_features)\n",
    "print(len(x_train), 'train sequences')\n",
    "print(len(x_test), 'test sequences')\n",
    "print(x_train[:3])"
   ]
  },
  {
   "cell_type": "code",
   "execution_count": 4,
   "metadata": {},
   "outputs": [
    {
     "data": {
      "text/plain": "0"
     },
     "execution_count": 4,
     "metadata": {},
     "output_type": "execute_result"
    }
   ],
   "source": [
    "x_train[1]\n",
    "y_train[1]"
   ]
  },
  {
   "cell_type": "code",
   "execution_count": 5,
   "metadata": {},
   "outputs": [],
   "source": [
    "from tensorflow.keras.preprocessing import sequence\n",
    "from tensorflow.keras.models import Sequential\n",
    "from tensorflow.keras.layers import Dense, Dropout, Embedding, SimpleRNN, LSTM, Bidirectional\n",
    "from tensorflow.keras.callbacks import EarlyStopping\n",
    "from tensorflow.keras.callbacks import History\n",
    "\n",
    "from tensorflow.keras.datasets import imdb"
   ]
  },
  {
   "cell_type": "markdown",
   "metadata": {},
   "source": [
    "# Zad\n",
    "Pobierz zbiór danych\n",
    "\n",
    "IMDB Movie reviews sentiment classification\n",
    "Dataset of 25,000 movies reviews from IMDB, labeled by sentiment (positive/negative). Reviews have been preprocessed, and each review is encoded as a sequence of word indexes (integers). For convenience, words are indexed by overall frequency in the dataset, so that for instance the integer \"3\" encodes the 3rd most frequent word in the data. This allows for quick filtering operations such as: \"only consider the top 10,000 most common words, but eliminate the top 20 most common words\".\n",
    "\n",
    "As a convention, \"0\" does not stand for a specific word, but instead is used to encode any unknown word.\n",
    "\n",
    "https://keras.io/datasets/"
   ]
  },
  {
   "cell_type": "markdown",
   "metadata": {},
   "source": [
    "# Zad\n",
    "Ujednolicenie długości ciągów - padding"
   ]
  },
  {
   "cell_type": "code",
   "execution_count": 6,
   "metadata": {},
   "outputs": [
    {
     "name": "stdout",
     "output_type": "stream",
     "text": [
      "(25000, 400)\n",
      "(25000, 400)\n"
     ]
    }
   ],
   "source": [
    "# Ujednolicenie długości ciągów - padding:\n",
    "maxlen = 400\n",
    "X_train = sequence.pad_sequences(x_train,maxlen=maxlen)\n",
    "X_test = sequence.pad_sequences(x_test, maxlen=maxlen)\n",
    "print(X_train.shape)\n",
    "print(X_test.shape)"
   ]
  },
  {
   "cell_type": "code",
   "execution_count": 7,
   "metadata": {},
   "outputs": [
    {
     "data": {
      "text/plain": "array([   0,    0,    0,    0,    0,    0,    0,    0,    0,    0,    0,\n          0,    0,    0,    0,    0,    0,    0,    0,    0,    0,    0,\n          0,    0,    0,    0,    0,    0,    0,    0,    0,    0,    0,\n          0,    0,    0,    0,    0,    0,    0,    0,    0,    0,    0,\n          0,    0,    0,    0,    0,    0,    0,    0,    0,    0,    0,\n          0,    0,    0,    0,    0,    0,    0,    0,    0,    0,    0,\n          0,    0,    0,    0,    0,    0,    0,    0,    0,    0,    0,\n          0,    0,    0,    0,    0,    0,    0,    0,    0,    0,    0,\n          0,    0,    0,    0,    0,    0,    0,    0,    0,    0,    0,\n          0,    0,    0,    0,    0,    0,    0,    0,    0,    0,    0,\n          0,    0,    0,    0,    0,    0,    0,    0,    0,    0,    0,\n          0,    0,    0,    0,    0,    0,    0,    0,    0,    0,    0,\n          0,    0,    0,    0,    0,    0,    0,    0,    0,    0,    0,\n          0,    0,    0,    0,    0,    0,    0,    0,    0,    0,    0,\n          0,    0,    0,    0,    0,    0,    0,    0,    0,    0,    0,\n          0,    0,    0,    0,    0,    0,    0,    0,    0,    0,    0,\n          0,    0,    0,    0,    0,    0,    1,   14,   22,   16,   43,\n        530,  973, 1622, 1385,   65,  458, 4468,   66, 3941,    4,  173,\n         36,  256,    5,   25,  100,   43,  838,  112,   50,  670,    2,\n          9,   35,  480,  284,    5,  150,    4,  172,  112,  167,    2,\n        336,  385,   39,    4,  172, 4536, 1111,   17,  546,   38,   13,\n        447,    4,  192,   50,   16,    6,  147, 2025,   19,   14,   22,\n          4, 1920, 4613,  469,    4,   22,   71,   87,   12,   16,   43,\n        530,   38,   76,   15,   13, 1247,    4,   22,   17,  515,   17,\n         12,   16,  626,   18,    2,    5,   62,  386,   12,    8,  316,\n          8,  106,    5,    4, 2223,    2,   16,  480,   66, 3785,   33,\n          4,  130,   12,   16,   38,  619,    5,   25,  124,   51,   36,\n        135,   48,   25, 1415,   33,    6,   22,   12,  215,   28,   77,\n         52,    5,   14,  407,   16,   82,    2,    8,    4,  107,  117,\n          2,   15,  256,    4,    2,    7, 3766,    5,  723,   36,   71,\n         43,  530,  476,   26,  400,  317,   46,    7,    4,    2, 1029,\n         13,  104,   88,    4,  381,   15,  297,   98,   32, 2071,   56,\n         26,  141,    6,  194,    2,   18,    4,  226,   22,   21,  134,\n        476,   26,  480,    5,  144,   30,    2,   18,   51,   36,   28,\n        224,   92,   25,  104,    4,  226,   65,   16,   38, 1334,   88,\n         12,   16,  283,    5,   16, 4472,  113,  103,   32,   15,   16,\n          2,   19,  178,   32], dtype=int32)"
     },
     "execution_count": 7,
     "metadata": {},
     "output_type": "execute_result"
    }
   ],
   "source": [
    "X_train[0]"
   ]
  },
  {
   "cell_type": "markdown",
   "metadata": {},
   "source": [
    "# Zad\n",
    "Zmniejszmy zbiór danych"
   ]
  },
  {
   "cell_type": "code",
   "execution_count": 8,
   "metadata": {},
   "outputs": [
    {
     "name": "stdout",
     "output_type": "stream",
     "text": [
      "(5000, 400)\n",
      "(2000, 400)\n"
     ]
    }
   ],
   "source": [
    "n_train = 5000\n",
    "n_test = 2000\n",
    "X_train = X_train[:n_train]\n",
    "y_train = y_train[:n_train]\n",
    "X_test = X_test[:n_test]\n",
    "y_test = y_test[:n_test]\n",
    "print(X_train.shape)\n",
    "print(X_test.shape)"
   ]
  },
  {
   "cell_type": "markdown",
   "metadata": {},
   "source": [
    "The Embedding layer is initialized with random weights and will learn an embedding for all of the words in the training dataset.\n",
    "\n",
    "It is a flexible layer that can be used in a variety of ways, such as:\n",
    "\n",
    "* It can be used alone to learn a word embedding that can be saved and used in another model later.\n",
    "* It can be used as part of a deep learning model where the embedding is learned along with the model itself.\n",
    "* It can be used to load a pre-trained word embedding model, a type of transfer learning.\n",
    "\n",
    "The Embedding layer is defined as the first hidden layer of a network. It must specify 3 arguments:\n",
    "\n",
    "It must specify 3 arguments:\n",
    "\n",
    "* **input_dim**: This is the size of the vocabulary in the text data. For example, if your data is integer encoded to values between 0-10, then the size of the vocabulary would be 11 words.\n",
    "* **output_dim**: This is the size of the vector space in which words will be embedded. It defines the size of the output vectors from this layer for each word. For example, it could be 32 or 100 or even larger. Test different values for your problem.\n",
    "* **input_length**: This is the length of input sequences, as you would define for any input layer of a Keras model. For example, if all of your input documents are comprised of 1000 words, this would be 1000."
   ]
  },
  {
   "cell_type": "markdown",
   "metadata": {},
   "source": [
    "# Zad\n",
    "Zwykła sieć rekurencyjna ( z embeddingami)"
   ]
  },
  {
   "cell_type": "code",
   "execution_count": 9,
   "metadata": {},
   "outputs": [
    {
     "name": "stdout",
     "output_type": "stream",
     "text": [
      "Model: \"sequential\"\n",
      "_________________________________________________________________\n",
      " Layer (type)                Output Shape              Param #   \n",
      "=================================================================\n",
      " embedding (Embedding)       (None, 400, 50)           250000    \n",
      "                                                                 \n",
      " simple_rnn (SimpleRNN)      (None, 100)               15100     \n",
      "                                                                 \n",
      " dense (Dense)               (None, 1)                 101       \n",
      "                                                                 \n",
      "=================================================================\n",
      "Total params: 265,201\n",
      "Trainable params: 265,201\n",
      "Non-trainable params: 0\n",
      "_________________________________________________________________\n"
     ]
    },
    {
     "name": "stderr",
     "output_type": "stream",
     "text": [
      "2022-06-09 12:39:52.577858: W tensorflow/stream_executor/platform/default/dso_loader.cc:64] Could not load dynamic library 'libcuda.so.1'; dlerror: libcuda.so.1: cannot open shared object file: No such file or directory\n",
      "2022-06-09 12:39:52.577888: W tensorflow/stream_executor/cuda/cuda_driver.cc:269] failed call to cuInit: UNKNOWN ERROR (303)\n",
      "2022-06-09 12:39:52.577917: I tensorflow/stream_executor/cuda/cuda_diagnostics.cc:156] kernel driver does not appear to be running on this host (hania-dell): /proc/driver/nvidia/version does not exist\n",
      "2022-06-09 12:39:52.579067: I tensorflow/core/platform/cpu_feature_guard.cc:193] This TensorFlow binary is optimized with oneAPI Deep Neural Network Library (oneDNN) to use the following CPU instructions in performance-critical operations:  AVX2 FMA\n",
      "To enable them in other operations, rebuild TensorFlow with the appropriate compiler flags.\n"
     ]
    }
   ],
   "source": [
    "history = History()\n",
    "model = Sequential()\n",
    "model.add(Embedding(max_features, 50, input_length=maxlen)) # wyjscie z warstwy ma wymiar 50\n",
    "model.add(SimpleRNN(100))\n",
    "model.add(Dense(1,activation=\"sigmoid\"))\n",
    "model.summary()"
   ]
  },
  {
   "cell_type": "code",
   "execution_count": 10,
   "metadata": {},
   "outputs": [
    {
     "name": "stdout",
     "output_type": "stream",
     "text": [
      "Epoch 1/10\n",
      "125/125 [==============================] - 11s 83ms/step - loss: 0.6938 - accuracy: 0.5120 - val_loss: 0.6871 - val_accuracy: 0.5460\n",
      "Epoch 2/10\n",
      "125/125 [==============================] - 10s 79ms/step - loss: 0.6737 - accuracy: 0.5788 - val_loss: 0.6711 - val_accuracy: 0.5860\n",
      "Epoch 3/10\n",
      "125/125 [==============================] - 12s 95ms/step - loss: 0.6093 - accuracy: 0.7040 - val_loss: 0.6548 - val_accuracy: 0.5850\n",
      "Epoch 4/10\n",
      "125/125 [==============================] - 13s 101ms/step - loss: 0.5071 - accuracy: 0.7775 - val_loss: 0.6508 - val_accuracy: 0.6380\n",
      "Epoch 5/10\n",
      "125/125 [==============================] - 11s 89ms/step - loss: 0.4931 - accuracy: 0.7653 - val_loss: 0.6646 - val_accuracy: 0.6070\n",
      "Epoch 6/10\n",
      "125/125 [==============================] - 11s 90ms/step - loss: 0.4432 - accuracy: 0.8075 - val_loss: 0.7027 - val_accuracy: 0.5900\n",
      "Epoch 7/10\n",
      "125/125 [==============================] - 11s 88ms/step - loss: 0.3607 - accuracy: 0.8418 - val_loss: 0.8086 - val_accuracy: 0.6030\n",
      "Epoch 8/10\n",
      "125/125 [==============================] - 11s 89ms/step - loss: 0.2822 - accuracy: 0.8882 - val_loss: 0.8919 - val_accuracy: 0.5800\n",
      "Epoch 9/10\n",
      "125/125 [==============================] - 11s 90ms/step - loss: 0.2095 - accuracy: 0.9265 - val_loss: 0.9745 - val_accuracy: 0.6130\n",
      "Epoch 10/10\n",
      "125/125 [==============================] - 12s 93ms/step - loss: 0.1426 - accuracy: 0.9523 - val_loss: 1.1226 - val_accuracy: 0.5980\n"
     ]
    },
    {
     "data": {
      "text/plain": "<keras.callbacks.History at 0x7f2f05be8190>"
     },
     "execution_count": 10,
     "metadata": {},
     "output_type": "execute_result"
    }
   ],
   "source": [
    "model.compile(loss=\"binary_crossentropy\",optimizer=\"adam\", metrics=[\"accuracy\"])\n",
    "early_stopping = EarlyStopping(monitor='val_loss', patience=10, mode='min', verbose=1)\n",
    "model.fit(X_train,y_train, epochs=10, validation_split=0.2, callbacks=[history, early_stopping])"
   ]
  },
  {
   "cell_type": "code",
   "execution_count": 11,
   "metadata": {},
   "outputs": [
    {
     "name": "stdout",
     "output_type": "stream",
     "text": [
      "63/63 [==============================] - 2s 30ms/step - loss: 1.1763 - accuracy: 0.5865\n"
     ]
    },
    {
     "data": {
      "text/plain": "[1.176332712173462, 0.5864999890327454]"
     },
     "execution_count": 11,
     "metadata": {},
     "output_type": "execute_result"
    }
   ],
   "source": [
    "model.evaluate(X_test,y_test)"
   ]
  },
  {
   "cell_type": "code",
   "execution_count": 12,
   "metadata": {},
   "outputs": [
    {
     "data": {
      "text/plain": "<Figure size 432x288 with 1 Axes>",
      "image/png": "[encoded data removed]"
     },
     "metadata": {
      "needs_background": "light"
     },
     "output_type": "display_data"
    }
   ],
   "source": [
    "\n",
    "plt.plot(history.history['accuracy'], label = \"tarina Adam\")\n",
    "plt.plot(history.history['val_accuracy'], label = \"test Adam\")\n",
    "\n",
    "\n",
    "plt.legend()\n",
    "plt.show()"
   ]
  },
  {
   "cell_type": "markdown",
   "metadata": {},
   "source": [
    "# Zad\n",
    "Proszę dodać\n",
    "```python\n",
    "SimpleRNN(100,dropout=0.5)\n",
    "```"
   ]
  },
  {
   "cell_type": "code",
   "execution_count": 13,
   "metadata": {},
   "outputs": [
    {
     "name": "stdout",
     "output_type": "stream",
     "text": [
      "Model: \"sequential_1\"\n",
      "_________________________________________________________________\n",
      " Layer (type)                Output Shape              Param #   \n",
      "=================================================================\n",
      " embedding_1 (Embedding)     (None, 400, 50)           250000    \n",
      "                                                                 \n",
      " simple_rnn_1 (SimpleRNN)    (None, 100)               15100     \n",
      "                                                                 \n",
      " dense_1 (Dense)             (None, 1)                 101       \n",
      "                                                                 \n",
      "=================================================================\n",
      "Total params: 265,201\n",
      "Trainable params: 265,201\n",
      "Non-trainable params: 0\n",
      "_________________________________________________________________\n",
      "Epoch 1/10\n",
      "125/125 [==============================] - 12s 90ms/step - loss: 0.6995 - accuracy: 0.5102 - val_loss: 0.6864 - val_accuracy: 0.5680\n",
      "Epoch 2/10\n",
      "125/125 [==============================] - 11s 89ms/step - loss: 0.6879 - accuracy: 0.5368 - val_loss: 0.6985 - val_accuracy: 0.5030\n",
      "Epoch 3/10\n",
      "125/125 [==============================] - 11s 90ms/step - loss: 0.6756 - accuracy: 0.5807 - val_loss: 0.6766 - val_accuracy: 0.5770\n",
      "Epoch 4/10\n",
      "125/125 [==============================] - 11s 88ms/step - loss: 0.6533 - accuracy: 0.6320 - val_loss: 0.6501 - val_accuracy: 0.6150\n",
      "Epoch 5/10\n",
      "125/125 [==============================] - 11s 89ms/step - loss: 0.6000 - accuracy: 0.7190 - val_loss: 0.6482 - val_accuracy: 0.6220\n",
      "Epoch 6/10\n",
      "125/125 [==============================] - 13s 106ms/step - loss: 0.5692 - accuracy: 0.7350 - val_loss: 0.6048 - val_accuracy: 0.6620\n",
      "Epoch 7/10\n",
      "125/125 [==============================] - 19s 150ms/step - loss: 0.4773 - accuracy: 0.7893 - val_loss: 0.5733 - val_accuracy: 0.7000\n",
      "Epoch 8/10\n",
      "125/125 [==============================] - 14s 109ms/step - loss: 0.3901 - accuracy: 0.8317 - val_loss: 0.5866 - val_accuracy: 0.7000\n",
      "Epoch 9/10\n",
      "125/125 [==============================] - 15s 122ms/step - loss: 0.3296 - accuracy: 0.8622 - val_loss: 0.5987 - val_accuracy: 0.7170\n",
      "Epoch 10/10\n",
      "125/125 [==============================] - 12s 95ms/step - loss: 0.2858 - accuracy: 0.8890 - val_loss: 0.6399 - val_accuracy: 0.7200\n",
      "63/63 [==============================] - 2s 26ms/step - loss: 0.6200 - accuracy: 0.7450\n"
     ]
    },
    {
     "data": {
      "text/plain": "[0.6200337409973145, 0.7450000047683716]"
     },
     "execution_count": 13,
     "metadata": {},
     "output_type": "execute_result"
    }
   ],
   "source": [
    "history_1 = History()\n",
    "model = Sequential()\n",
    "model.add(Embedding(max_features, 50, input_length=maxlen)) # wyjscie z warstwy ma wymiar 50\n",
    "model.add(SimpleRNN(100,dropout=0.5))\n",
    "model.add(Dense(1,activation=\"sigmoid\"))\n",
    "model.summary()\n",
    "\n",
    "model.compile(loss=\"binary_crossentropy\",optimizer=\"adam\", metrics=[\"accuracy\"])\n",
    "early_stopping = EarlyStopping(monitor='val_loss', patience=10, mode='min', verbose=1)\n",
    "model.fit(X_train,y_train, epochs=10, validation_split=0.2, callbacks=[history_1, early_stopping])\n",
    "\n",
    "model.evaluate(X_test,y_test)"
   ]
  },
  {
   "cell_type": "code",
   "execution_count": 14,
   "metadata": {},
   "outputs": [
    {
     "data": {
      "text/plain": "<Figure size 432x288 with 1 Axes>",
      "image/png": "[encoded data removed]"
     },
     "metadata": {
      "needs_background": "light"
     },
     "output_type": "display_data"
    }
   ],
   "source": [
    "plt.plot(history.history['accuracy'], label = \"tarina Adam\")\n",
    "plt.plot(history.history['val_accuracy'], label = \"test Adam\")\n",
    "\n",
    "plt.plot(history_1.history['accuracy'], label = \"tarina Adam\")\n",
    "plt.plot(history_1.history['val_accuracy'], label = \"test Adam\")\n",
    "\n",
    "plt.legend()\n",
    "plt.show()"
   ]
  },
  {
   "cell_type": "markdown",
   "metadata": {},
   "source": [
    "# Zad\n",
    "Sprawdź architekturę dwustronną\n",
    "```python\n",
    "Bidirectional(SimpleRNN(10,dropout=0.5))\n",
    "```"
   ]
  },
  {
   "cell_type": "code",
   "execution_count": null,
   "metadata": {
    "pycharm": {
     "is_executing": true
    }
   },
   "outputs": [
    {
     "name": "stdout",
     "output_type": "stream",
     "text": [
      "Model: \"sequential_2\"\n",
      "_________________________________________________________________\n",
      " Layer (type)                Output Shape              Param #   \n",
      "=================================================================\n",
      " embedding_2 (Embedding)     (None, 400, 50)           250000    \n",
      "                                                                 \n",
      " bidirectional (Bidirectiona  (None, 20)               1220      \n",
      " l)                                                              \n",
      "                                                                 \n",
      " dense_2 (Dense)             (None, 1)                 21        \n",
      "                                                                 \n",
      "=================================================================\n",
      "Total params: 251,241\n",
      "Trainable params: 251,241\n",
      "Non-trainable params: 0\n",
      "_________________________________________________________________\n",
      "Epoch 1/10\n",
      "125/125 [==============================] - 14s 102ms/step - loss: 0.6963 - accuracy: 0.5203 - val_loss: 0.6823 - val_accuracy: 0.5710\n",
      "Epoch 2/10\n",
      "125/125 [==============================] - 13s 102ms/step - loss: 0.6156 - accuracy: 0.7092 - val_loss: 0.6332 - val_accuracy: 0.6510\n",
      "Epoch 3/10\n",
      "125/125 [==============================] - 13s 103ms/step - loss: 0.4622 - accuracy: 0.8232 - val_loss: 0.6218 - val_accuracy: 0.6460\n",
      "Epoch 4/10\n",
      "125/125 [==============================] - 13s 102ms/step - loss: 0.2999 - accuracy: 0.9190 - val_loss: 0.5008 - val_accuracy: 0.7770\n",
      "Epoch 5/10\n",
      "125/125 [==============================] - 190s 2s/step - loss: 0.1978 - accuracy: 0.9540 - val_loss: 0.5587 - val_accuracy: 0.7330\n",
      "Epoch 6/10\n",
      "125/125 [==============================] - 21s 167ms/step - loss: 0.1448 - accuracy: 0.9630 - val_loss: 0.5233 - val_accuracy: 0.7670\n",
      "Epoch 7/10\n",
      " 54/125 [===========>..................] - ETA: 9s - loss: 0.1176 - accuracy: 0.9780"
     ]
    }
   ],
   "source": [
    "history_d_10 = History()\n",
    "model = Sequential()\n",
    "model.add(Embedding(max_features, 50, input_length=maxlen)) # wyjscie z warstwy ma wymiar 50\n",
    "model.add(Bidirectional(SimpleRNN(10,dropout=0.5)))\n",
    "model.add(Dense(1,activation=\"sigmoid\"))\n",
    "model.summary()\n",
    "\n",
    "model.compile(loss=\"binary_crossentropy\",optimizer=\"adam\", metrics=[\"accuracy\"])\n",
    "early_stopping = EarlyStopping(monitor='val_loss', patience=10, mode='min', verbose=1)\n",
    "model.fit(X_train,y_train, epochs=10, validation_split=0.2, callbacks=[history_d_10, early_stopping])\n",
    "\n",
    "model.evaluate(X_test,y_test)"
   ]
  },
  {
   "cell_type": "code",
   "execution_count": null,
   "metadata": {
    "pycharm": {
     "is_executing": true
    }
   },
   "outputs": [],
   "source": [
    "plt.plot(history.history['accuracy'], label = \"tarina Adam\")\n",
    "plt.plot(history.history['val_accuracy'], label = \"test Adam\")\n",
    "\n",
    "plt.plot(history_1.history['accuracy'], label = \"tarina Adam\")\n",
    "plt.plot(history_1.history['val_accuracy'], label = \"test Adam\")\n",
    "\n",
    "plt.plot(history_d_10.history['accuracy'], label = \"tarina Adam\")\n",
    "plt.plot(history_d_10.history['val_accuracy'], label = \"test Adam\")\n",
    "\n",
    "plt.legend()\n",
    "plt.show()"
   ]
  },
  {
   "cell_type": "markdown",
   "metadata": {},
   "source": [
    "# Zad\n",
    "Proszę sprawdzić dwie warstwy:\n",
    "```python\n",
    "model.add(SimpleRNN(10,return_sequences=True))\n",
    "model.add(SimpleRNN(20))\n",
    "```"
   ]
  },
  {
   "cell_type": "code",
   "execution_count": null,
   "metadata": {
    "pycharm": {
     "is_executing": true
    }
   },
   "outputs": [],
   "source": [
    "history_2 = History()\n",
    "model = Sequential()\n",
    "model.add(Embedding(max_features, 50, input_length=maxlen)) # wyjscie z warstwy ma wymiar 50\n",
    "model.add(SimpleRNN(10,return_sequences=True))\n",
    "model.add(SimpleRNN(20))\n",
    "model.add(Dense(1,activation=\"sigmoid\"))\n",
    "model.summary()\n",
    "\n",
    "model.compile(loss=\"binary_crossentropy\",optimizer=\"adam\", metrics=[\"accuracy\"])\n",
    "early_stopping = EarlyStopping(monitor='val_loss', patience=10, mode='min', verbose=1)\n",
    "model.fit(X_train,y_train, epochs=10, validation_split=0.2, callbacks=[history_2, early_stopping])\n",
    "\n",
    "model.evaluate(X_test,y_test)"
   ]
  },
  {
   "cell_type": "code",
   "execution_count": null,
   "metadata": {
    "pycharm": {
     "is_executing": true
    }
   },
   "outputs": [],
   "source": [
    "plt.plot(history.history['accuracy'], label = \"tarina \")\n",
    "plt.plot(history.history['val_accuracy'], label = \"test \")\n",
    "\n",
    "plt.plot(history_1.history['accuracy'], label = \"tarina  Drop\")\n",
    "plt.plot(history_1.history['val_accuracy'], label = \"test Drop\")\n",
    "\n",
    "plt.plot(history_d_10.history['accuracy'], label = \"tarina Drop 10\")\n",
    "plt.plot(history_d_10.history['val_accuracy'], label = \"test Drop 10\")\n",
    "\n",
    "plt.plot(history_2.history['accuracy'], label = \"tarina 2 Layer\")\n",
    "plt.plot(history_2.history['val_accuracy'], label = \"test 2 Layer\")\n",
    "\n",
    "plt.legend()\n",
    "plt.show()"
   ]
  },
  {
   "cell_type": "markdown",
   "metadata": {},
   "source": [
    "# LSTM"
   ]
  },
  {
   "cell_type": "code",
   "execution_count": null,
   "metadata": {
    "pycharm": {
     "is_executing": true
    }
   },
   "outputs": [],
   "source": [
    "from tensorflow.keras.layers import LSTM\n",
    "\n",
    "history_LSTM = History()\n",
    "model = Sequential()\n",
    "model.add(Embedding(max_features, 50,input_length=maxlen,mask_zero=True)) \n",
    "# mask_zero sprawia ze siec pomija zera na poczatku\n",
    "model.add(LSTM(20))\n",
    "model.add(Dense(1,activation=\"sigmoid\"))\n",
    "model.summary()\n",
    "\n",
    "model.compile(loss=\"binary_crossentropy\", optimizer=\"adam\",metrics=[\"accuracy\"])\n",
    "early_stopping = EarlyStopping(monitor='val_loss', patience=10, mode='min', verbose=1)\n",
    "model.fit(X_train,y_train, epochs=10, validation_split=0.2, callbacks=[history_LSTM, early_stopping])\n",
    "\n",
    "model.evaluate(X_test,y_test)"
   ]
  },
  {
   "cell_type": "code",
   "execution_count": null,
   "metadata": {
    "pycharm": {
     "is_executing": true
    }
   },
   "outputs": [],
   "source": [
    "plt.plot(history_2.history['accuracy'], label = \"tarina 2 Layer\")\n",
    "plt.plot(history_2.history['val_accuracy'], label = \"test 2 Layer\")\n",
    "\n",
    "plt.plot(history_LSTM.history['accuracy'], label = \"tarina LSTM\")\n",
    "plt.plot(history_LSTM.history['val_accuracy'], label = \"test LSTM\")\n",
    "\n",
    "plt.legend()\n",
    "plt.show()"
   ]
  },
  {
   "cell_type": "markdown",
   "metadata": {},
   "source": [
    "# GRU"
   ]
  },
  {
   "cell_type": "code",
   "execution_count": null,
   "metadata": {
    "pycharm": {
     "is_executing": true
    }
   },
   "outputs": [],
   "source": [
    "from tensorflow.keras.layers import GRU"
   ]
  },
  {
   "cell_type": "code",
   "execution_count": null,
   "metadata": {
    "pycharm": {
     "is_executing": true
    }
   },
   "outputs": [],
   "source": [
    "history_GRU = History()\n",
    "model = Sequential()\n",
    "model.add(Embedding(max_features, 50,input_length=maxlen,mask_zero=True)) \n",
    "# mask_zero sprawia ze siec pomija zera na poczatku\n",
    "model.add(GRU(20))\n",
    "model.add(Dense(1,activation=\"sigmoid\"))\n",
    "model.summary()\n",
    "\n",
    "model.compile(loss=\"binary_crossentropy\", optimizer=\"adam\",metrics=[\"accuracy\"])\n",
    "early_stopping = EarlyStopping(monitor='val_loss', patience=10, mode='min', verbose=1)\n",
    "model.fit(X_train,y_train, epochs=10, validation_split=0.2, callbacks=[history_GRU, early_stopping])\n",
    "\n",
    "model.evaluate(X_test,y_test)"
   ]
  },
  {
   "cell_type": "code",
   "execution_count": null,
   "metadata": {
    "pycharm": {
     "is_executing": true
    }
   },
   "outputs": [],
   "source": [
    "plt.plot(history_2.history['accuracy'], label = \"tarina 2 Layer\")\n",
    "plt.plot(history_2.history['val_accuracy'], label = \"test 2 Layer\")\n",
    "\n",
    "plt.plot(history_LSTM.history['accuracy'], label = \"tarina LSTM\")\n",
    "plt.plot(history_LSTM.history['val_accuracy'], label = \"test LSTM\")\n",
    "\n",
    "plt.plot(history_GRU.history['accuracy'], label = \"tarina GRU\")\n",
    "plt.plot(history_GRU.history['val_accuracy'], label = \"test GRU\")\n",
    "\n",
    "plt.legend()\n",
    "plt.show()"
   ]
  },
  {
   "cell_type": "markdown",
   "metadata": {},
   "source": [
    "# Zad\n",
    "\n",
    "Zbóduj model używający \n",
    "```python\n",
    "Bidirectional LSTM\n",
    "```\n",
    "\n",
    "https://machinelearningmastery.com/develop-bidirectional-lstm-sequence-classification-python-keras/\n",
    "\n",
    "https://keras.io/examples/imdb_bidirectional_lstm/"
   ]
  },
  {
   "cell_type": "code",
   "execution_count": null,
   "metadata": {
    "pycharm": {
     "is_executing": true
    }
   },
   "outputs": [],
   "source": [
    "from keras.layers import Bidirectional\n",
    "\n",
    "history_BiLSTM = History()\n",
    "model = Sequential()\n",
    "model.add(Embedding(max_features, 50,input_length=maxlen,mask_zero=True)) \n",
    "# mask_zero sprawia ze siec pomija zera na poczatku\n",
    "model.add(Bidirectional(LSTM(20)))\n",
    "model.add(Dense(1,activation=\"sigmoid\"))\n",
    "model.summary()\n",
    "\n",
    "model.compile(loss=\"binary_crossentropy\", optimizer=\"adam\",metrics=[\"accuracy\"])\n",
    "early_stopping = EarlyStopping(monitor='val_loss', patience=10, mode='min', verbose=1)\n",
    "model.fit(X_train,y_train, epochs=10, validation_split=0.2, callbacks=[history_BiLSTM, early_stopping])\n",
    "\n",
    "model.evaluate(X_test,y_test)"
   ]
  },
  {
   "cell_type": "code",
   "execution_count": null,
   "metadata": {
    "pycharm": {
     "is_executing": true
    }
   },
   "outputs": [],
   "source": [
    "plt.plot(history_2.history['accuracy'], label = \"tarina 2 Layer\")\n",
    "plt.plot(history_2.history['val_accuracy'], label = \"test 2 Layer\")\n",
    "\n",
    "plt.plot(history_LSTM.history['accuracy'], label = \"tarina LSTM\")\n",
    "plt.plot(history_LSTM.history['val_accuracy'], label = \"test LSTM\")\n",
    "\n",
    "plt.plot(history_GRU.history['accuracy'], label = \"tarina GRU\")\n",
    "plt.plot(history_GRU.history['val_accuracy'], label = \"test GRU\")\n",
    "\n",
    "plt.plot(history_BiLSTM.history['accuracy'], label = \"tarina BiLSTM\")\n",
    "plt.plot(history_BiLSTM.history['val_accuracy'], label = \"test BiLSTM\")\n",
    "\n",
    "plt.legend()\n",
    "plt.show()"
   ]
  },
  {
   "cell_type": "markdown",
   "metadata": {},
   "source": [
    "# Zad. \n",
    "Zbuduj model używający \n",
    "```python\n",
    "model.add(TimeDistributed(Dense(1, activation='sigmoid')))\n",
    "```\n",
    "\n",
    "https://stackoverflow.com/questions/53670332/why-not-use-flatten-followed-by-a-dense-layer-instead-of-timedistributed"
   ]
  },
  {
   "cell_type": "code",
   "execution_count": null,
   "metadata": {
    "pycharm": {
     "is_executing": true
    }
   },
   "outputs": [],
   "source": [
    "from keras.layers import TimeDistributed\n",
    "\n",
    "history_TimeLSTM = History()\n",
    "model = Sequential()\n",
    "model.add(Embedding(max_features, 50,input_length=maxlen,mask_zero=True)) \n",
    "# mask_zero sprawia ze siec pomija zera na poczatku\n",
    "model.add(LSTM(20, input_shape=(10, 1), return_sequences=True))\n",
    "model.add(TimeDistributed(Dense(1, activation='sigmoid')))\n",
    "model.summary()\n",
    "\n",
    "model.compile(loss=\"binary_crossentropy\", optimizer=\"adam\",metrics=[\"accuracy\"])\n",
    "early_stopping = EarlyStopping(monitor='val_loss', patience=10, mode='min', verbose=1)\n",
    "model.fit(X_train,y_train, epochs=10, validation_split=0.2, callbacks=[history_TimeLSTM, early_stopping])\n",
    "\n",
    "model.evaluate(X_test,y_test)"
   ]
  },
  {
   "cell_type": "code",
   "execution_count": null,
   "metadata": {
    "pycharm": {
     "is_executing": true
    }
   },
   "outputs": [],
   "source": [
    "plt.plot(history_2.history['accuracy'], label = \"tarina 2 Layer\")\n",
    "plt.plot(history_2.history['val_accuracy'], label = \"test 2 Layer\")\n",
    "\n",
    "plt.plot(history_LSTM.history['accuracy'], label = \"tarina LSTM\")\n",
    "plt.plot(history_LSTM.history['val_accuracy'], label = \"test LSTM\")\n",
    "\n",
    "plt.plot(history_GRU.history['accuracy'], label = \"tarina GRU\")\n",
    "plt.plot(history_GRU.history['val_accuracy'], label = \"test GRU\")\n",
    "\n",
    "plt.plot(history_BiLSTM.history['accuracy'], label = \"tarina BiLSTM\")\n",
    "plt.plot(history_BiLSTM.history['val_accuracy'], label = \"test BiLSTM\")\n",
    "\n",
    "plt.plot(history_TimeLSTM.history['accuracy'], label = \"tarina TimeLSTM\")\n",
    "plt.plot(history_TimeLSTM.history['val_accuracy'], label = \"test TimeLSTM\")\n",
    "\n",
    "plt.legend()\n",
    "plt.show()"
   ]
  },
  {
   "cell_type": "code",
   "execution_count": null,
   "metadata": {
    "pycharm": {
     "is_executing": true
    }
   },
   "outputs": [],
   "source": []
  }
 ],
 "metadata": {
  "kernelspec": {
   "display_name": "Python 3",
   "language": "python",
   "name": "python3"
  },
  "language_info": {
   "codemirror_mode": {
    "name": "ipython",
    "version": 3
   },
   "file_extension": ".py",
   "mimetype": "text/x-python",
   "name": "python",
   "nbconvert_exporter": "python",
   "pygments_lexer": "ipython3",
   "version": "3.8.8"
  }
 },
 "nbformat": 4,
 "nbformat_minor": 2
}